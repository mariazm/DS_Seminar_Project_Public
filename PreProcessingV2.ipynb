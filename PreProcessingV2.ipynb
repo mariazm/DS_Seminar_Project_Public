{
 "cells": [
  {
   "cell_type": "markdown",
   "metadata": {},
   "source": [
    "# 1. Getting the data"
   ]
  },
  {
   "cell_type": "code",
   "execution_count": 3,
   "metadata": {
    "collapsed": false
   },
   "outputs": [],
   "source": [
    "import gzip\n",
    "import html5lib \n",
    "import json\n",
    "import os\n",
    "import pandas as pd\n",
    "import numpy as np"
   ]
  },
  {
   "cell_type": "code",
   "execution_count": 4,
   "metadata": {
    "collapsed": false
   },
   "outputs": [
    {
     "data": {
      "text/plain": [
       "['.DS_Store',\n",
       " 'Dataset_Challenge_Dataset_Agreement.pdf',\n",
       " 'yelp_academic_dataset_business.json',\n",
       " 'yelp_academic_dataset_review.json',\n",
       " 'yelp_academic_dataset_user.json',\n",
       " 'Yelp_Dataset_Challenge_Terms_round_9.pdf']"
      ]
     },
     "execution_count": 4,
     "metadata": {},
     "output_type": "execute_result"
    }
   ],
   "source": [
    "\n",
    "# Listing all the JSON files in the directory\n",
    "dir_yelp = '../../DataProject/yelp_dataset_challenge_round9/'\n",
    "y_dirs = os.listdir(dir_yelp)\n",
    "\n",
    "#Output dir \n",
    "#if not os.path.exists(out_dir):\n",
    "#    os.makedirs(out_dir)\n",
    "y_dirs\n"
   ]
  },
  {
   "cell_type": "code",
   "execution_count": 5,
   "metadata": {
    "collapsed": false
   },
   "outputs": [],
   "source": [
    "\n",
    "### This part of the code is based on Prof. Perry's code  \n",
    "### http://ptrckprry.com/course/ssd/data/yelp-academic/01_make_json.py\n",
    "\n",
    "#Setting the structures of the information\n",
    "tables = {}\n",
    "\n",
    "#'elite'\n",
    "\n",
    "tables['user'] = {\n",
    "    'fields': ['user_id', 'name', 'yelping_since', 'average_stars'],\n",
    "    'subfields': {}\n",
    "    }\n",
    "\n",
    "tables['review'] = {\n",
    "    'fields': ['review_id', 'business_id', 'user_id', 'date', 'stars','text'],\n",
    "    'subfields': {}\n",
    "    }\n",
    "\n",
    "tables['business'] = {\n",
    "    'fields': ['business_id','name', 'stars', 'is_open','categories', 'state', 'city', \n",
    "               'longitude','latitude', 'neighborhood'],\n",
    "    'subfields': {}\n",
    "    }\n",
    "\n"
   ]
  },
  {
   "cell_type": "markdown",
   "metadata": {
    "collapsed": true
   },
   "source": [
    "### Formatting the data in Dataframes"
   ]
  },
  {
   "cell_type": "code",
   "execution_count": 6,
   "metadata": {
    "collapsed": false
   },
   "outputs": [
    {
     "name": "stdout",
     "output_type": "stream",
     "text": [
      "../../DataProject/yelp_dataset_challenge_round9/yelp_academic_dataset_business.json\n",
      "../../DataProject/yelp_dataset_challenge_round9/yelp_academic_dataset_review.json\n",
      "../../DataProject/yelp_dataset_challenge_round9/yelp_academic_dataset_user.json\n",
      "ENDED!\n"
     ]
    }
   ],
   "source": [
    "\n",
    "def unescape(x):\n",
    "    if isinstance(x, str):\n",
    "        x = html.unescape(x)\n",
    "    return x\n",
    "\n",
    "reviews_ext= []\n",
    "user_ext = []\n",
    "business_ext = []\n",
    "\n",
    "for y_dir in y_dirs:\n",
    "    #The files we're interested in extracting end with \".json\"\n",
    "    r1 = int('user' in  y_dir)\n",
    "    r2 = int('review' in y_dir )\n",
    "    r3 = int('business' in y_dir )\n",
    "    if y_dir.endswith('.json') and (r1==1 or r2==1 or r3==1)  :\n",
    "        print dir_yelp + y_dir\n",
    "        with open(dir_yelp+ y_dir, 'r') as dataset:\n",
    "            #Extracting the lines and formatting accordingly\n",
    "            for line in dataset:\n",
    "                obj = json.loads(line.decode('utf-8'))\n",
    "                tab = tables[obj['type']]\n",
    "                record = {}\n",
    "                #print(line)\n",
    "                for i in tab['fields']:\n",
    "                    #print(i)\n",
    "                    if i in tab['subfields']:\n",
    "                        record[i] = {}\n",
    "                        for j in tab['subfields'][i]:\n",
    "                            record[i][j] = unescape(obj[i][j])\n",
    "                    else:\n",
    "                        record[i] = unescape(obj[i])\n",
    "                if 'review_id' in record: #IS REVIEW\n",
    "                    reviews_ext.append(record)\n",
    "                if 'yelping_since' in record: #IS USER\n",
    "                    user_ext.append(record)\n",
    "                if 'neighborhood' in record:  #IS BUSINESS\n",
    "                    business_ext.append(record)\n",
    "                    \n",
    "print(\"ENDED!\")"
   ]
  },
  {
   "cell_type": "code",
   "execution_count": 7,
   "metadata": {
    "collapsed": false
   },
   "outputs": [],
   "source": [
    "\n",
    "users = pd.DataFrame(user_ext)\n",
    "businesses = pd.DataFrame(business_ext)\n",
    "reviews = pd.DataFrame(reviews_ext)\n"
   ]
  },
  {
   "cell_type": "code",
   "execution_count": 8,
   "metadata": {
    "collapsed": false
   },
   "outputs": [],
   "source": [
    "\n",
    "def getDfSummary(input_data):\n",
    "    # Get a whole bunch of stats\n",
    "    output_data = input_data.describe().transpose()\n",
    "    # Count NANs\n",
    "    output_data['number_nan'] = input_data.shape[0] - output_data['count']\n",
    "    # Type of data\n",
    "    output_data['types'] = [type(input_data[i][0]).__name__ for i in output_data.index]\n",
    "    # Count unique valuesc\n",
    "    distincts = []\n",
    "    for i in output_data.index:\n",
    "        if isinstance(input_data[i][0], list):\n",
    "            distincts.append(np.nan)\n",
    "        else:\n",
    "            distincts.append(len(input_data[i].unique()))\n",
    "    output_data['number_distinct'] = distincts\n",
    "    # Remove 'count' column since it wasn't asked for\n",
    "    output_data = output_data.drop('count', 1)\n",
    "    return output_data\n"
   ]
  },
  {
   "cell_type": "markdown",
   "metadata": {},
   "source": [
    "### Users' Dataset"
   ]
  },
  {
   "cell_type": "code",
   "execution_count": 9,
   "metadata": {
    "collapsed": false
   },
   "outputs": [
    {
     "data": {
      "text/html": [
       "<div>\n",
       "<table border=\"1\" class=\"dataframe\">\n",
       "  <thead>\n",
       "    <tr style=\"text-align: right;\">\n",
       "      <th></th>\n",
       "      <th>average_stars</th>\n",
       "      <th>name</th>\n",
       "      <th>user_id</th>\n",
       "      <th>yelping_since</th>\n",
       "    </tr>\n",
       "  </thead>\n",
       "  <tbody>\n",
       "    <tr>\n",
       "      <th>1029427</th>\n",
       "      <td>5.0</td>\n",
       "      <td>Marcia</td>\n",
       "      <td>mZ4V8gAjQYLWdPiPkhWnPA</td>\n",
       "      <td>2015-01-09</td>\n",
       "    </tr>\n",
       "    <tr>\n",
       "      <th>1029428</th>\n",
       "      <td>5.0</td>\n",
       "      <td>Cathy</td>\n",
       "      <td>z3XH6YdJnz_3kmNMFuB70A</td>\n",
       "      <td>2016-07-19</td>\n",
       "    </tr>\n",
       "    <tr>\n",
       "      <th>1029429</th>\n",
       "      <td>2.0</td>\n",
       "      <td>Hannah</td>\n",
       "      <td>s1l_dY8eGvwMqQNvQXeqNg</td>\n",
       "      <td>2015-11-11</td>\n",
       "    </tr>\n",
       "    <tr>\n",
       "      <th>1029430</th>\n",
       "      <td>5.0</td>\n",
       "      <td>Angel</td>\n",
       "      <td>qNdPduox3xNycsWDJRCFLA</td>\n",
       "      <td>2015-07-31</td>\n",
       "    </tr>\n",
       "    <tr>\n",
       "      <th>1029431</th>\n",
       "      <td>5.0</td>\n",
       "      <td>Al</td>\n",
       "      <td>vp0L6e84U7tBFpmOpsD8RQ</td>\n",
       "      <td>2015-09-25</td>\n",
       "    </tr>\n",
       "  </tbody>\n",
       "</table>\n",
       "</div>"
      ],
      "text/plain": [
       "         average_stars    name                 user_id yelping_since\n",
       "1029427            5.0  Marcia  mZ4V8gAjQYLWdPiPkhWnPA    2015-01-09\n",
       "1029428            5.0   Cathy  z3XH6YdJnz_3kmNMFuB70A    2016-07-19\n",
       "1029429            2.0  Hannah  s1l_dY8eGvwMqQNvQXeqNg    2015-11-11\n",
       "1029430            5.0   Angel  qNdPduox3xNycsWDJRCFLA    2015-07-31\n",
       "1029431            5.0      Al  vp0L6e84U7tBFpmOpsD8RQ    2015-09-25"
      ]
     },
     "execution_count": 9,
     "metadata": {},
     "output_type": "execute_result"
    }
   ],
   "source": [
    "\n",
    "users.tail()\n"
   ]
  },
  {
   "cell_type": "code",
   "execution_count": 10,
   "metadata": {
    "collapsed": false
   },
   "outputs": [],
   "source": [
    "\n",
    "name_datetime_variable = 'yelping_since'\n",
    "users[name_datetime_variable] = pd.to_datetime(users[name_datetime_variable])\n",
    "users[name_datetime_variable+'_year'] = pd.DatetimeIndex(users[name_datetime_variable]).year\n",
    "users[name_datetime_variable+'_month'] = pd.DatetimeIndex(users[name_datetime_variable]).month\n",
    "users[name_datetime_variable+'_day'] = pd.DatetimeIndex(users[name_datetime_variable]).day\n"
   ]
  },
  {
   "cell_type": "code",
   "execution_count": 11,
   "metadata": {
    "collapsed": false
   },
   "outputs": [
    {
     "data": {
      "image/png": "[encoded data removed]",
      "text/plain": [
       "<matplotlib.figure.Figure at 0x20839f990>"
      ]
     },
     "metadata": {},
     "output_type": "display_data"
    }
   ],
   "source": [
    "\n",
    "import matplotlib\n",
    "import matplotlib.pyplot as plt\n",
    "%matplotlib inline\n",
    "\n",
    "plt.figure(figsize=(12,10))\n",
    "\n",
    "plt.subplot(311)\n",
    "frequ_values = (users.yelping_since_day.value_counts()/users.yelping_since_day.value_counts().sum()).sort_index()\n",
    "plt.bar(frequ_values.index,frequ_values)\n",
    "plt.xlabel(\"Day of the month\",verticalalignment='top')\n",
    "\n",
    "plt.subplot(312)\n",
    "frequ_values = (users.yelping_since_month.value_counts()/users.yelping_since_month.value_counts().sum()).sort_index()\n",
    "plt.bar(frequ_values.index,frequ_values)\n",
    "plt.xlabel(\"Month of the year\",verticalalignment='top')\n",
    "\n",
    "plt.subplot(313)\n",
    "frequ_values = (users.yelping_since_year.value_counts()/users.yelping_since_year.value_counts().sum()).sort_index()\n",
    "plt.bar(frequ_values.index,frequ_values)\n",
    "plt.xlabel(\"Year\",verticalalignment='top')\n",
    "\n",
    "plt.show()\n"
   ]
  },
  {
   "cell_type": "code",
   "execution_count": 12,
   "metadata": {
    "collapsed": false
   },
   "outputs": [
    {
     "data": {
      "text/html": [
       "<div>\n",
       "<table border=\"1\" class=\"dataframe\">\n",
       "  <thead>\n",
       "    <tr style=\"text-align: right;\">\n",
       "      <th></th>\n",
       "      <th>mean</th>\n",
       "      <th>std</th>\n",
       "      <th>min</th>\n",
       "      <th>25%</th>\n",
       "      <th>50%</th>\n",
       "      <th>75%</th>\n",
       "      <th>max</th>\n",
       "      <th>number_nan</th>\n",
       "      <th>types</th>\n",
       "      <th>number_distinct</th>\n",
       "    </tr>\n",
       "  </thead>\n",
       "  <tbody>\n",
       "    <tr>\n",
       "      <th>average_stars</th>\n",
       "      <td>3.709147</td>\n",
       "      <td>1.097177</td>\n",
       "      <td>1.0</td>\n",
       "      <td>3.13</td>\n",
       "      <td>3.88</td>\n",
       "      <td>4.55</td>\n",
       "      <td>5.0</td>\n",
       "      <td>0.0</td>\n",
       "      <td>float64</td>\n",
       "      <td>398</td>\n",
       "    </tr>\n",
       "    <tr>\n",
       "      <th>yelping_since_year</th>\n",
       "      <td>2012.569855</td>\n",
       "      <td>2.306572</td>\n",
       "      <td>2004.0</td>\n",
       "      <td>2011.00</td>\n",
       "      <td>2013.00</td>\n",
       "      <td>2014.00</td>\n",
       "      <td>2017.0</td>\n",
       "      <td>0.0</td>\n",
       "      <td>int32</td>\n",
       "      <td>14</td>\n",
       "    </tr>\n",
       "    <tr>\n",
       "      <th>yelping_since_month</th>\n",
       "      <td>6.420439</td>\n",
       "      <td>3.373801</td>\n",
       "      <td>1.0</td>\n",
       "      <td>4.00</td>\n",
       "      <td>6.00</td>\n",
       "      <td>9.00</td>\n",
       "      <td>12.0</td>\n",
       "      <td>0.0</td>\n",
       "      <td>int32</td>\n",
       "      <td>12</td>\n",
       "    </tr>\n",
       "    <tr>\n",
       "      <th>yelping_since_day</th>\n",
       "      <td>15.741980</td>\n",
       "      <td>8.792139</td>\n",
       "      <td>1.0</td>\n",
       "      <td>8.00</td>\n",
       "      <td>16.00</td>\n",
       "      <td>23.00</td>\n",
       "      <td>31.0</td>\n",
       "      <td>0.0</td>\n",
       "      <td>int32</td>\n",
       "      <td>31</td>\n",
       "    </tr>\n",
       "  </tbody>\n",
       "</table>\n",
       "</div>"
      ],
      "text/plain": [
       "                            mean       std     min      25%      50%      75%  \\\n",
       "average_stars           3.709147  1.097177     1.0     3.13     3.88     4.55   \n",
       "yelping_since_year   2012.569855  2.306572  2004.0  2011.00  2013.00  2014.00   \n",
       "yelping_since_month     6.420439  3.373801     1.0     4.00     6.00     9.00   \n",
       "yelping_since_day      15.741980  8.792139     1.0     8.00    16.00    23.00   \n",
       "\n",
       "                        max  number_nan    types  number_distinct  \n",
       "average_stars           5.0         0.0  float64              398  \n",
       "yelping_since_year   2017.0         0.0    int32               14  \n",
       "yelping_since_month    12.0         0.0    int32               12  \n",
       "yelping_since_day      31.0         0.0    int32               31  "
      ]
     },
     "execution_count": 12,
     "metadata": {},
     "output_type": "execute_result"
    }
   ],
   "source": [
    "getDfSummary(users)"
   ]
  },
  {
   "cell_type": "code",
   "execution_count": 13,
   "metadata": {
    "collapsed": true
   },
   "outputs": [],
   "source": [
    "\n",
    "user_variables = ['user_id','average_stars','yelping_since_year']\n"
   ]
  },
  {
   "cell_type": "markdown",
   "metadata": {},
   "source": [
    "### Business' Dataset"
   ]
  },
  {
   "cell_type": "code",
   "execution_count": 14,
   "metadata": {
    "collapsed": false
   },
   "outputs": [
    {
     "data": {
      "text/html": [
       "<div>\n",
       "<table border=\"1\" class=\"dataframe\">\n",
       "  <thead>\n",
       "    <tr style=\"text-align: right;\">\n",
       "      <th></th>\n",
       "      <th>business_id</th>\n",
       "      <th>categories</th>\n",
       "      <th>city</th>\n",
       "      <th>is_open</th>\n",
       "      <th>latitude</th>\n",
       "      <th>longitude</th>\n",
       "      <th>name</th>\n",
       "      <th>neighborhood</th>\n",
       "      <th>stars</th>\n",
       "      <th>state</th>\n",
       "    </tr>\n",
       "  </thead>\n",
       "  <tbody>\n",
       "    <tr>\n",
       "      <th>144069</th>\n",
       "      <td>5GslSGCDT3gXei0kKR-P3g</td>\n",
       "      <td>[Food, Ice Cream &amp; Frozen Yogurt]</td>\n",
       "      <td>Phoenix</td>\n",
       "      <td>0</td>\n",
       "      <td>33.626005</td>\n",
       "      <td>-111.977799</td>\n",
       "      <td>Yin Yang Self Serve Frozen Yogurt</td>\n",
       "      <td></td>\n",
       "      <td>4.5</td>\n",
       "      <td>AZ</td>\n",
       "    </tr>\n",
       "    <tr>\n",
       "      <th>144070</th>\n",
       "      <td>z0GwhlBflcCnVdACU9tQxQ</td>\n",
       "      <td>[Restaurants, Hot Dogs]</td>\n",
       "      <td>Phoenix</td>\n",
       "      <td>0</td>\n",
       "      <td>33.640348</td>\n",
       "      <td>-111.969566</td>\n",
       "      <td>Famous Uncle Al's Hot Dogs and Grille</td>\n",
       "      <td></td>\n",
       "      <td>4.0</td>\n",
       "      <td>AZ</td>\n",
       "    </tr>\n",
       "    <tr>\n",
       "      <th>144071</th>\n",
       "      <td>a048R60CLFeObJ3mhHdPRg</td>\n",
       "      <td>[Shopping, Mobile Phones]</td>\n",
       "      <td>Phoenix</td>\n",
       "      <td>1</td>\n",
       "      <td>33.602173</td>\n",
       "      <td>-111.983636</td>\n",
       "      <td>T-Mobile</td>\n",
       "      <td></td>\n",
       "      <td>3.0</td>\n",
       "      <td>AZ</td>\n",
       "    </tr>\n",
       "  </tbody>\n",
       "</table>\n",
       "</div>"
      ],
      "text/plain": [
       "                   business_id                         categories     city  \\\n",
       "144069  5GslSGCDT3gXei0kKR-P3g  [Food, Ice Cream & Frozen Yogurt]  Phoenix   \n",
       "144070  z0GwhlBflcCnVdACU9tQxQ            [Restaurants, Hot Dogs]  Phoenix   \n",
       "144071  a048R60CLFeObJ3mhHdPRg          [Shopping, Mobile Phones]  Phoenix   \n",
       "\n",
       "        is_open   latitude   longitude                                   name  \\\n",
       "144069        0  33.626005 -111.977799      Yin Yang Self Serve Frozen Yogurt   \n",
       "144070        0  33.640348 -111.969566  Famous Uncle Al's Hot Dogs and Grille   \n",
       "144071        1  33.602173 -111.983636                               T-Mobile   \n",
       "\n",
       "       neighborhood  stars state  \n",
       "144069                 4.5    AZ  \n",
       "144070                 4.0    AZ  \n",
       "144071                 3.0    AZ  "
      ]
     },
     "execution_count": 14,
     "metadata": {},
     "output_type": "execute_result"
    }
   ],
   "source": [
    "\n",
    "businesses.tail(3)\n"
   ]
  },
  {
   "cell_type": "code",
   "execution_count": 15,
   "metadata": {
    "collapsed": false,
    "scrolled": false
   },
   "outputs": [
    {
     "data": {
      "text/html": [
       "<div>\n",
       "<table border=\"1\" class=\"dataframe\">\n",
       "  <thead>\n",
       "    <tr style=\"text-align: right;\">\n",
       "      <th></th>\n",
       "      <th>mean</th>\n",
       "      <th>std</th>\n",
       "      <th>min</th>\n",
       "      <th>25%</th>\n",
       "      <th>50%</th>\n",
       "      <th>75%</th>\n",
       "      <th>max</th>\n",
       "      <th>number_nan</th>\n",
       "      <th>types</th>\n",
       "      <th>number_distinct</th>\n",
       "    </tr>\n",
       "  </thead>\n",
       "  <tbody>\n",
       "    <tr>\n",
       "      <th>is_open</th>\n",
       "      <td>0.850304</td>\n",
       "      <td>0.356774</td>\n",
       "      <td>0.000000</td>\n",
       "      <td>1.000000</td>\n",
       "      <td>1.000000</td>\n",
       "      <td>1.000000</td>\n",
       "      <td>1.000000</td>\n",
       "      <td>0.0</td>\n",
       "      <td>int64</td>\n",
       "      <td>2</td>\n",
       "    </tr>\n",
       "    <tr>\n",
       "      <th>latitude</th>\n",
       "      <td>38.644758</td>\n",
       "      <td>5.344079</td>\n",
       "      <td>32.998019</td>\n",
       "      <td>33.627346</td>\n",
       "      <td>36.143417</td>\n",
       "      <td>43.611192</td>\n",
       "      <td>57.592285</td>\n",
       "      <td>0.0</td>\n",
       "      <td>float64</td>\n",
       "      <td>115313</td>\n",
       "    </tr>\n",
       "    <tr>\n",
       "      <th>longitude</th>\n",
       "      <td>-92.690002</td>\n",
       "      <td>26.898355</td>\n",
       "      <td>-122.397206</td>\n",
       "      <td>-112.136907</td>\n",
       "      <td>-89.523207</td>\n",
       "      <td>-79.649855</td>\n",
       "      <td>115.086769</td>\n",
       "      <td>0.0</td>\n",
       "      <td>float64</td>\n",
       "      <td>115691</td>\n",
       "    </tr>\n",
       "    <tr>\n",
       "      <th>stars</th>\n",
       "      <td>3.637709</td>\n",
       "      <td>0.969585</td>\n",
       "      <td>1.000000</td>\n",
       "      <td>3.000000</td>\n",
       "      <td>3.500000</td>\n",
       "      <td>4.500000</td>\n",
       "      <td>5.000000</td>\n",
       "      <td>0.0</td>\n",
       "      <td>float64</td>\n",
       "      <td>9</td>\n",
       "    </tr>\n",
       "  </tbody>\n",
       "</table>\n",
       "</div>"
      ],
      "text/plain": [
       "                mean        std         min         25%        50%        75%  \\\n",
       "is_open     0.850304   0.356774    0.000000    1.000000   1.000000   1.000000   \n",
       "latitude   38.644758   5.344079   32.998019   33.627346  36.143417  43.611192   \n",
       "longitude -92.690002  26.898355 -122.397206 -112.136907 -89.523207 -79.649855   \n",
       "stars       3.637709   0.969585    1.000000    3.000000   3.500000   4.500000   \n",
       "\n",
       "                  max  number_nan    types  number_distinct  \n",
       "is_open      1.000000         0.0    int64                2  \n",
       "latitude    57.592285         0.0  float64           115313  \n",
       "longitude  115.086769         0.0  float64           115691  \n",
       "stars        5.000000         0.0  float64                9  "
      ]
     },
     "execution_count": 15,
     "metadata": {},
     "output_type": "execute_result"
    }
   ],
   "source": [
    "\n",
    "getDfSummary(businesses)\n"
   ]
  },
  {
   "cell_type": "code",
   "execution_count": 16,
   "metadata": {
    "collapsed": false
   },
   "outputs": [
    {
     "data": {
      "text/html": [
       "<div>\n",
       "<table border=\"1\" class=\"dataframe\">\n",
       "  <thead>\n",
       "    <tr style=\"text-align: right;\">\n",
       "      <th></th>\n",
       "      <th>business_id</th>\n",
       "      <th>categories</th>\n",
       "      <th>is_open</th>\n",
       "      <th>latitude</th>\n",
       "      <th>longitude</th>\n",
       "      <th>name</th>\n",
       "      <th>stars</th>\n",
       "      <th>state_AZ</th>\n",
       "      <th>state_BW</th>\n",
       "      <th>state_EDH</th>\n",
       "      <th>...</th>\n",
       "      <th>neighborhood_Willowdale</th>\n",
       "      <th>neighborhood_Windemere</th>\n",
       "      <th>neighborhood_Windgap</th>\n",
       "      <th>neighborhood_Woodbridge</th>\n",
       "      <th>neighborhood_Woodland Hills</th>\n",
       "      <th>neighborhood_Worthington Park</th>\n",
       "      <th>neighborhood_Wychwood</th>\n",
       "      <th>neighborhood_Yonge and Eglinton</th>\n",
       "      <th>neighborhood_Yonge and St. Clair</th>\n",
       "      <th>neighborhood_Yorkville</th>\n",
       "    </tr>\n",
       "  </thead>\n",
       "  <tbody>\n",
       "    <tr>\n",
       "      <th>144069</th>\n",
       "      <td>5GslSGCDT3gXei0kKR-P3g</td>\n",
       "      <td>[Food, Ice Cream &amp; Frozen Yogurt]</td>\n",
       "      <td>0</td>\n",
       "      <td>33.626005</td>\n",
       "      <td>-111.977799</td>\n",
       "      <td>Yin Yang Self Serve Frozen Yogurt</td>\n",
       "      <td>4.5</td>\n",
       "      <td>1</td>\n",
       "      <td>0</td>\n",
       "      <td>0</td>\n",
       "      <td>...</td>\n",
       "      <td>0</td>\n",
       "      <td>0</td>\n",
       "      <td>0</td>\n",
       "      <td>0</td>\n",
       "      <td>0</td>\n",
       "      <td>0</td>\n",
       "      <td>0</td>\n",
       "      <td>0</td>\n",
       "      <td>0</td>\n",
       "      <td>0</td>\n",
       "    </tr>\n",
       "    <tr>\n",
       "      <th>144070</th>\n",
       "      <td>z0GwhlBflcCnVdACU9tQxQ</td>\n",
       "      <td>[Restaurants, Hot Dogs]</td>\n",
       "      <td>0</td>\n",
       "      <td>33.640348</td>\n",
       "      <td>-111.969566</td>\n",
       "      <td>Famous Uncle Al's Hot Dogs and Grille</td>\n",
       "      <td>4.0</td>\n",
       "      <td>1</td>\n",
       "      <td>0</td>\n",
       "      <td>0</td>\n",
       "      <td>...</td>\n",
       "      <td>0</td>\n",
       "      <td>0</td>\n",
       "      <td>0</td>\n",
       "      <td>0</td>\n",
       "      <td>0</td>\n",
       "      <td>0</td>\n",
       "      <td>0</td>\n",
       "      <td>0</td>\n",
       "      <td>0</td>\n",
       "      <td>0</td>\n",
       "    </tr>\n",
       "    <tr>\n",
       "      <th>144071</th>\n",
       "      <td>a048R60CLFeObJ3mhHdPRg</td>\n",
       "      <td>[Shopping, Mobile Phones]</td>\n",
       "      <td>1</td>\n",
       "      <td>33.602173</td>\n",
       "      <td>-111.983636</td>\n",
       "      <td>T-Mobile</td>\n",
       "      <td>3.0</td>\n",
       "      <td>1</td>\n",
       "      <td>0</td>\n",
       "      <td>0</td>\n",
       "      <td>...</td>\n",
       "      <td>0</td>\n",
       "      <td>0</td>\n",
       "      <td>0</td>\n",
       "      <td>0</td>\n",
       "      <td>0</td>\n",
       "      <td>0</td>\n",
       "      <td>0</td>\n",
       "      <td>0</td>\n",
       "      <td>0</td>\n",
       "      <td>0</td>\n",
       "    </tr>\n",
       "  </tbody>\n",
       "</table>\n",
       "<p>3 rows × 1292 columns</p>\n",
       "</div>"
      ],
      "text/plain": [
       "                   business_id                         categories  is_open  \\\n",
       "144069  5GslSGCDT3gXei0kKR-P3g  [Food, Ice Cream & Frozen Yogurt]        0   \n",
       "144070  z0GwhlBflcCnVdACU9tQxQ            [Restaurants, Hot Dogs]        0   \n",
       "144071  a048R60CLFeObJ3mhHdPRg          [Shopping, Mobile Phones]        1   \n",
       "\n",
       "         latitude   longitude                                   name  stars  \\\n",
       "144069  33.626005 -111.977799      Yin Yang Self Serve Frozen Yogurt    4.5   \n",
       "144070  33.640348 -111.969566  Famous Uncle Al's Hot Dogs and Grille    4.0   \n",
       "144071  33.602173 -111.983636                               T-Mobile    3.0   \n",
       "\n",
       "        state_AZ  state_BW  state_EDH           ...            \\\n",
       "144069         1         0          0           ...             \n",
       "144070         1         0          0           ...             \n",
       "144071         1         0          0           ...             \n",
       "\n",
       "        neighborhood_Willowdale  neighborhood_Windemere  neighborhood_Windgap  \\\n",
       "144069                        0                       0                     0   \n",
       "144070                        0                       0                     0   \n",
       "144071                        0                       0                     0   \n",
       "\n",
       "        neighborhood_Woodbridge  neighborhood_Woodland Hills  \\\n",
       "144069                        0                            0   \n",
       "144070                        0                            0   \n",
       "144071                        0                            0   \n",
       "\n",
       "        neighborhood_Worthington Park  neighborhood_Wychwood  \\\n",
       "144069                              0                      0   \n",
       "144070                              0                      0   \n",
       "144071                              0                      0   \n",
       "\n",
       "        neighborhood_Yonge and Eglinton  neighborhood_Yonge and St. Clair  \\\n",
       "144069                                0                                 0   \n",
       "144070                                0                                 0   \n",
       "144071                                0                                 0   \n",
       "\n",
       "        neighborhood_Yorkville  \n",
       "144069                       0  \n",
       "144070                       0  \n",
       "144071                       0  \n",
       "\n",
       "[3 rows x 1292 columns]"
      ]
     },
     "execution_count": 16,
     "metadata": {},
     "output_type": "execute_result"
    }
   ],
   "source": [
    "\n",
    "dummies_cities = pd.get_dummies(businesses['state'], dummy_na=False, prefix='state', prefix_sep='_')\n",
    "businesses_dumm = pd.concat([businesses, dummies_cities], axis=1)\n",
    "\n",
    "dummies_states = pd.get_dummies(businesses['city'], dummy_na=False, prefix='city', prefix_sep='_')\n",
    "businesses_dumm = pd.concat([businesses_dumm, dummies_states], axis=1)\n",
    "\n",
    "dummies_neighborhood = pd.get_dummies(businesses['neighborhood'], dummy_na=False, prefix='neighborhood', prefix_sep='_')\n",
    "businesses_dumm = pd.concat([businesses_dumm, dummies_neighborhood], axis=1)\n",
    "\n",
    "businesses_dumm = businesses_dumm.drop(['city','state','neighborhood'],axis=1)\n",
    "businesses_dumm.tail(3)\n"
   ]
  },
  {
   "cell_type": "code",
   "execution_count": 17,
   "metadata": {
    "collapsed": false
   },
   "outputs": [
    {
     "data": {
      "text/html": [
       "<div>\n",
       "<table border=\"1\" class=\"dataframe\">\n",
       "  <thead>\n",
       "    <tr style=\"text-align: right;\">\n",
       "      <th></th>\n",
       "      <th>business_id</th>\n",
       "      <th>is_open</th>\n",
       "      <th>latitude</th>\n",
       "      <th>longitude</th>\n",
       "      <th>name</th>\n",
       "      <th>stars</th>\n",
       "      <th>state_AZ</th>\n",
       "      <th>state_BW</th>\n",
       "      <th>state_EDH</th>\n",
       "      <th>state_ELN</th>\n",
       "      <th>...</th>\n",
       "      <th>catBiz_Wine Tours</th>\n",
       "      <th>catBiz_Wineries</th>\n",
       "      <th>catBiz_Wok</th>\n",
       "      <th>catBiz_Women's Clothing</th>\n",
       "      <th>catBiz_Workers Compensation Law</th>\n",
       "      <th>catBiz_Wraps</th>\n",
       "      <th>catBiz_Yelp Events</th>\n",
       "      <th>catBiz_Yoga</th>\n",
       "      <th>catBiz_Ziplining</th>\n",
       "      <th>catBiz_Zoos</th>\n",
       "    </tr>\n",
       "  </thead>\n",
       "  <tbody>\n",
       "    <tr>\n",
       "      <th>144069</th>\n",
       "      <td>5GslSGCDT3gXei0kKR-P3g</td>\n",
       "      <td>0</td>\n",
       "      <td>33.626005</td>\n",
       "      <td>-111.977799</td>\n",
       "      <td>Yin Yang Self Serve Frozen Yogurt</td>\n",
       "      <td>4.5</td>\n",
       "      <td>1</td>\n",
       "      <td>0</td>\n",
       "      <td>0</td>\n",
       "      <td>0</td>\n",
       "      <td>...</td>\n",
       "      <td>0.0</td>\n",
       "      <td>0.0</td>\n",
       "      <td>0.0</td>\n",
       "      <td>0.0</td>\n",
       "      <td>0.0</td>\n",
       "      <td>0.0</td>\n",
       "      <td>0.0</td>\n",
       "      <td>0.0</td>\n",
       "      <td>0.0</td>\n",
       "      <td>0.0</td>\n",
       "    </tr>\n",
       "    <tr>\n",
       "      <th>144070</th>\n",
       "      <td>z0GwhlBflcCnVdACU9tQxQ</td>\n",
       "      <td>0</td>\n",
       "      <td>33.640348</td>\n",
       "      <td>-111.969566</td>\n",
       "      <td>Famous Uncle Al's Hot Dogs and Grille</td>\n",
       "      <td>4.0</td>\n",
       "      <td>1</td>\n",
       "      <td>0</td>\n",
       "      <td>0</td>\n",
       "      <td>0</td>\n",
       "      <td>...</td>\n",
       "      <td>0.0</td>\n",
       "      <td>0.0</td>\n",
       "      <td>0.0</td>\n",
       "      <td>0.0</td>\n",
       "      <td>0.0</td>\n",
       "      <td>0.0</td>\n",
       "      <td>0.0</td>\n",
       "      <td>0.0</td>\n",
       "      <td>0.0</td>\n",
       "      <td>0.0</td>\n",
       "    </tr>\n",
       "    <tr>\n",
       "      <th>144071</th>\n",
       "      <td>a048R60CLFeObJ3mhHdPRg</td>\n",
       "      <td>1</td>\n",
       "      <td>33.602173</td>\n",
       "      <td>-111.983636</td>\n",
       "      <td>T-Mobile</td>\n",
       "      <td>3.0</td>\n",
       "      <td>1</td>\n",
       "      <td>0</td>\n",
       "      <td>0</td>\n",
       "      <td>0</td>\n",
       "      <td>...</td>\n",
       "      <td>0.0</td>\n",
       "      <td>0.0</td>\n",
       "      <td>0.0</td>\n",
       "      <td>0.0</td>\n",
       "      <td>0.0</td>\n",
       "      <td>0.0</td>\n",
       "      <td>0.0</td>\n",
       "      <td>0.0</td>\n",
       "      <td>0.0</td>\n",
       "      <td>0.0</td>\n",
       "    </tr>\n",
       "  </tbody>\n",
       "</table>\n",
       "<p>3 rows × 2482 columns</p>\n",
       "</div>"
      ],
      "text/plain": [
       "                   business_id  is_open   latitude   longitude  \\\n",
       "144069  5GslSGCDT3gXei0kKR-P3g        0  33.626005 -111.977799   \n",
       "144070  z0GwhlBflcCnVdACU9tQxQ        0  33.640348 -111.969566   \n",
       "144071  a048R60CLFeObJ3mhHdPRg        1  33.602173 -111.983636   \n",
       "\n",
       "                                         name  stars  state_AZ  state_BW  \\\n",
       "144069      Yin Yang Self Serve Frozen Yogurt    4.5         1         0   \n",
       "144070  Famous Uncle Al's Hot Dogs and Grille    4.0         1         0   \n",
       "144071                               T-Mobile    3.0         1         0   \n",
       "\n",
       "        state_EDH  state_ELN     ...       catBiz_Wine Tours  catBiz_Wineries  \\\n",
       "144069          0          0     ...                     0.0              0.0   \n",
       "144070          0          0     ...                     0.0              0.0   \n",
       "144071          0          0     ...                     0.0              0.0   \n",
       "\n",
       "        catBiz_Wok  catBiz_Women's Clothing  catBiz_Workers Compensation Law  \\\n",
       "144069         0.0                      0.0                              0.0   \n",
       "144070         0.0                      0.0                              0.0   \n",
       "144071         0.0                      0.0                              0.0   \n",
       "\n",
       "        catBiz_Wraps  catBiz_Yelp Events  catBiz_Yoga  catBiz_Ziplining  \\\n",
       "144069           0.0                 0.0          0.0               0.0   \n",
       "144070           0.0                 0.0          0.0               0.0   \n",
       "144071           0.0                 0.0          0.0               0.0   \n",
       "\n",
       "        catBiz_Zoos  \n",
       "144069          0.0  \n",
       "144070          0.0  \n",
       "144071          0.0  \n",
       "\n",
       "[3 rows x 2482 columns]"
      ]
     },
     "execution_count": 17,
     "metadata": {},
     "output_type": "execute_result"
    }
   ],
   "source": [
    "\n",
    "'''\n",
    ".apply(Series)    converts the series of lists to a dataframe\n",
    ".stack()          puts everything in one column again (creating a multi-level index)\n",
    "pd.get_dummies( ) creating the dummies\n",
    ".sum(level=0)     for remerging the different rows that should be one row \n",
    "                  (by summing up the second level, only keeping the original level (level=0))               \n",
    "'''\n",
    "\n",
    "dummies_categories = pd.get_dummies(businesses['categories'].apply(pd.Series).stack()).sum(level=0)\n",
    "\n",
    "prefix = 'catBiz_'\n",
    "new_columns = []\n",
    "for i in dummies_categories.columns:\n",
    "    new_columns.append( prefix+i )\n",
    "    \n",
    "dummies_categories.columns = new_columns\n",
    "    \n",
    "    \n",
    "businesses_sparse = pd.concat([businesses_dumm, dummies_categories], axis=1)\n",
    "businesses_sparse = businesses_sparse.drop(['categories'],axis=1)\n",
    "businesses_sparse.tail(3)\n"
   ]
  },
  {
   "cell_type": "code",
   "execution_count": 18,
   "metadata": {
    "collapsed": false,
    "scrolled": false
   },
   "outputs": [],
   "source": [
    "\n",
    "business_variables = []\n",
    "for i in businesses_sparse.columns:\n",
    "    if 'catBiz' in i or 'neighborhood' in i or 'state' in i or 'city' in i or 'name' in i \\\n",
    "       or 'latitude' in i or 'longitude' in i or 'stars' in i or 'is_open' in i or 'id' in i:\n",
    "        business_variables.append(i)\n"
   ]
  },
  {
   "cell_type": "markdown",
   "metadata": {},
   "source": [
    "##### Categories counts"
   ]
  },
  {
   "cell_type": "code",
   "execution_count": 19,
   "metadata": {
    "collapsed": false
   },
   "outputs": [
    {
     "data": {
      "text/plain": [
       "0     [Tobacco Shops, Nightlife, Vape Shops, Shopping]\n",
       "1    [Caterers, Grocery, Food, Event Planning & Ser...\n",
       "2         [Restaurants, Pizza, Chicken Wings, Italian]\n",
       "3    [Hair Removal, Beauty & Spas, Blow Dry/Out Ser...\n",
       "4    [Hotels & Travel, Event Planning & Services, H...\n",
       "Name: categories, dtype: object"
      ]
     },
     "execution_count": 19,
     "metadata": {},
     "output_type": "execute_result"
    }
   ],
   "source": [
    "\n",
    "blended_cats = businesses['categories']\n",
    "blended_cats.head()\n"
   ]
  },
  {
   "cell_type": "code",
   "execution_count": 20,
   "metadata": {
    "collapsed": false
   },
   "outputs": [],
   "source": [
    "\n",
    "from collections import Counter\n",
    "distinct_cats = Counter()\n",
    "for line in blended_cats: \n",
    "    if line!= None:\n",
    "        for cat in line: \n",
    "            distinct_cats[cat] +=1\n",
    "        "
   ]
  },
  {
   "cell_type": "code",
   "execution_count": 21,
   "metadata": {
    "collapsed": false
   },
   "outputs": [
    {
     "name": "stdout",
     "output_type": "stream",
     "text": [
      "1191\n"
     ]
    }
   ],
   "source": [
    "\n",
    "print(len(distinct_cats)) #Too many to create a category per each one\n"
   ]
  },
  {
   "cell_type": "markdown",
   "metadata": {},
   "source": [
    "### Reviews' Dataset"
   ]
  },
  {
   "cell_type": "code",
   "execution_count": 22,
   "metadata": {
    "collapsed": false
   },
   "outputs": [
    {
     "data": {
      "text/html": [
       "<div>\n",
       "<table border=\"1\" class=\"dataframe\">\n",
       "  <thead>\n",
       "    <tr style=\"text-align: right;\">\n",
       "      <th></th>\n",
       "      <th>business_id</th>\n",
       "      <th>date</th>\n",
       "      <th>review_id</th>\n",
       "      <th>stars</th>\n",
       "      <th>text</th>\n",
       "      <th>user_id</th>\n",
       "    </tr>\n",
       "  </thead>\n",
       "  <tbody>\n",
       "    <tr>\n",
       "      <th>4153147</th>\n",
       "      <td>KYasaF1nov1bn7phfSgWeg</td>\n",
       "      <td>2015-08-15</td>\n",
       "      <td>GXQnlRo41C4WykC_IP2Lbw</td>\n",
       "      <td>5</td>\n",
       "      <td>Tui was awesome ^^ she made me an amazing jack...</td>\n",
       "      <td>rWL8bGLRPtYAhX97JnRVXg</td>\n",
       "    </tr>\n",
       "    <tr>\n",
       "      <th>4153148</th>\n",
       "      <td>KYasaF1nov1bn7phfSgWeg</td>\n",
       "      <td>2016-08-18</td>\n",
       "      <td>tTGXK14g6WKJx78JG3bh_w</td>\n",
       "      <td>3</td>\n",
       "      <td>Overpriced coffee without the free upgrade at ...</td>\n",
       "      <td>nS19cEYuD99dvTCYISf0oA</td>\n",
       "    </tr>\n",
       "    <tr>\n",
       "      <th>4153149</th>\n",
       "      <td>KYasaF1nov1bn7phfSgWeg</td>\n",
       "      <td>2014-05-26</td>\n",
       "      <td>EmuqmSacByt96t8G5GK0KQ</td>\n",
       "      <td>4</td>\n",
       "      <td>If ur into Asian desserts this is the place to...</td>\n",
       "      <td>LgpDa5gAoK2q3u4zrjdr-w</td>\n",
       "    </tr>\n",
       "  </tbody>\n",
       "</table>\n",
       "</div>"
      ],
      "text/plain": [
       "                    business_id        date               review_id  stars  \\\n",
       "4153147  KYasaF1nov1bn7phfSgWeg  2015-08-15  GXQnlRo41C4WykC_IP2Lbw      5   \n",
       "4153148  KYasaF1nov1bn7phfSgWeg  2016-08-18  tTGXK14g6WKJx78JG3bh_w      3   \n",
       "4153149  KYasaF1nov1bn7phfSgWeg  2014-05-26  EmuqmSacByt96t8G5GK0KQ      4   \n",
       "\n",
       "                                                      text  \\\n",
       "4153147  Tui was awesome ^^ she made me an amazing jack...   \n",
       "4153148  Overpriced coffee without the free upgrade at ...   \n",
       "4153149  If ur into Asian desserts this is the place to...   \n",
       "\n",
       "                        user_id  \n",
       "4153147  rWL8bGLRPtYAhX97JnRVXg  \n",
       "4153148  nS19cEYuD99dvTCYISf0oA  \n",
       "4153149  LgpDa5gAoK2q3u4zrjdr-w  "
      ]
     },
     "execution_count": 22,
     "metadata": {},
     "output_type": "execute_result"
    }
   ],
   "source": [
    "\n",
    "reviews.tail(3)\n"
   ]
  },
  {
   "cell_type": "code",
   "execution_count": 23,
   "metadata": {
    "collapsed": false
   },
   "outputs": [],
   "source": [
    "\n",
    "name_datetime_variable = 'date'\n",
    "reviews[name_datetime_variable] = pd.to_datetime(reviews[name_datetime_variable])\n",
    "reviews[name_datetime_variable+'_year'] = pd.DatetimeIndex(reviews[name_datetime_variable]).year\n",
    "reviews[name_datetime_variable+'_month'] = pd.DatetimeIndex(reviews[name_datetime_variable]).month\n",
    "reviews[name_datetime_variable+'_day'] = pd.DatetimeIndex(reviews[name_datetime_variable]).day\n",
    "\n",
    "#reviews = reviews.drop('date',axis=1)\n"
   ]
  },
  {
   "cell_type": "code",
   "execution_count": 24,
   "metadata": {
    "collapsed": false
   },
   "outputs": [
    {
     "data": {
      "image/png": "[encoded data removed]",
      "text/plain": [
       "<matplotlib.figure.Figure at 0x25fa28150>"
      ]
     },
     "metadata": {},
     "output_type": "display_data"
    }
   ],
   "source": [
    "\n",
    "plt.figure(figsize=(12,10))\n",
    "\n",
    "plt.subplot(311)\n",
    "frequ_values = (reviews.date_day.value_counts()/reviews.date_day.value_counts().sum()).sort_index()\n",
    "plt.bar(frequ_values.index,frequ_values)\n",
    "plt.xlabel(\"Day of the month\",verticalalignment='top')\n",
    "\n",
    "plt.subplot(312)\n",
    "frequ_values = (reviews.date_month.value_counts()/reviews.date_month.value_counts().sum()).sort_index()\n",
    "plt.bar(frequ_values.index,frequ_values)\n",
    "plt.xlabel(\"Month of the year\",verticalalignment='top')\n",
    "\n",
    "plt.subplot(313)\n",
    "frequ_values = (reviews.date_year.value_counts()/reviews.date_year.value_counts().sum()).sort_index()\n",
    "plt.bar(frequ_values.index,frequ_values)\n",
    "plt.xlabel(\"Year\",verticalalignment='top')\n",
    "\n",
    "plt.show()\n"
   ]
  },
  {
   "cell_type": "code",
   "execution_count": 25,
   "metadata": {
    "collapsed": false
   },
   "outputs": [
    {
     "data": {
      "text/html": [
       "<div>\n",
       "<table border=\"1\" class=\"dataframe\">\n",
       "  <thead>\n",
       "    <tr style=\"text-align: right;\">\n",
       "      <th></th>\n",
       "      <th>mean</th>\n",
       "      <th>std</th>\n",
       "      <th>min</th>\n",
       "      <th>25%</th>\n",
       "      <th>50%</th>\n",
       "      <th>75%</th>\n",
       "      <th>max</th>\n",
       "      <th>number_nan</th>\n",
       "      <th>types</th>\n",
       "      <th>number_distinct</th>\n",
       "    </tr>\n",
       "  </thead>\n",
       "  <tbody>\n",
       "    <tr>\n",
       "      <th>stars</th>\n",
       "      <td>3.722765</td>\n",
       "      <td>1.405131</td>\n",
       "      <td>1.0</td>\n",
       "      <td>3.0</td>\n",
       "      <td>4.0</td>\n",
       "      <td>5.0</td>\n",
       "      <td>5.0</td>\n",
       "      <td>0.0</td>\n",
       "      <td>int64</td>\n",
       "      <td>5</td>\n",
       "    </tr>\n",
       "    <tr>\n",
       "      <th>date_year</th>\n",
       "      <td>2013.839790</td>\n",
       "      <td>2.144192</td>\n",
       "      <td>2004.0</td>\n",
       "      <td>2013.0</td>\n",
       "      <td>2014.0</td>\n",
       "      <td>2016.0</td>\n",
       "      <td>2017.0</td>\n",
       "      <td>0.0</td>\n",
       "      <td>int32</td>\n",
       "      <td>14</td>\n",
       "    </tr>\n",
       "    <tr>\n",
       "      <th>date_month</th>\n",
       "      <td>6.540899</td>\n",
       "      <td>3.415820</td>\n",
       "      <td>1.0</td>\n",
       "      <td>4.0</td>\n",
       "      <td>7.0</td>\n",
       "      <td>9.0</td>\n",
       "      <td>12.0</td>\n",
       "      <td>0.0</td>\n",
       "      <td>int32</td>\n",
       "      <td>12</td>\n",
       "    </tr>\n",
       "    <tr>\n",
       "      <th>date_day</th>\n",
       "      <td>15.750731</td>\n",
       "      <td>8.798195</td>\n",
       "      <td>1.0</td>\n",
       "      <td>8.0</td>\n",
       "      <td>16.0</td>\n",
       "      <td>23.0</td>\n",
       "      <td>31.0</td>\n",
       "      <td>0.0</td>\n",
       "      <td>int32</td>\n",
       "      <td>31</td>\n",
       "    </tr>\n",
       "  </tbody>\n",
       "</table>\n",
       "</div>"
      ],
      "text/plain": [
       "                   mean       std     min     25%     50%     75%     max  \\\n",
       "stars          3.722765  1.405131     1.0     3.0     4.0     5.0     5.0   \n",
       "date_year   2013.839790  2.144192  2004.0  2013.0  2014.0  2016.0  2017.0   \n",
       "date_month     6.540899  3.415820     1.0     4.0     7.0     9.0    12.0   \n",
       "date_day      15.750731  8.798195     1.0     8.0    16.0    23.0    31.0   \n",
       "\n",
       "            number_nan  types  number_distinct  \n",
       "stars              0.0  int64                5  \n",
       "date_year          0.0  int32               14  \n",
       "date_month         0.0  int32               12  \n",
       "date_day           0.0  int32               31  "
      ]
     },
     "execution_count": 25,
     "metadata": {},
     "output_type": "execute_result"
    }
   ],
   "source": [
    "getDfSummary( reviews )"
   ]
  },
  {
   "cell_type": "code",
   "execution_count": 26,
   "metadata": {
    "collapsed": false
   },
   "outputs": [],
   "source": [
    "reviews_variables = ['business_id','user_id','date_year','stars','text']"
   ]
  },
  {
   "cell_type": "markdown",
   "metadata": {},
   "source": [
    "# 2. Create a sample"
   ]
  },
  {
   "cell_type": "code",
   "execution_count": 42,
   "metadata": {
    "collapsed": false
   },
   "outputs": [],
   "source": [
    "\n",
    "np.random.seed(10)\n",
    "shuffle_indices = np.random.permutation(np.arange(len(reviews)))\n"
   ]
  },
  {
   "cell_type": "markdown",
   "metadata": {},
   "source": [
    "#### Reviews sample"
   ]
  },
  {
   "cell_type": "code",
   "execution_count": 43,
   "metadata": {
    "collapsed": false
   },
   "outputs": [
    {
     "data": {
      "text/html": [
       "<div>\n",
       "<table border=\"1\" class=\"dataframe\">\n",
       "  <thead>\n",
       "    <tr style=\"text-align: right;\">\n",
       "      <th></th>\n",
       "      <th>business_id</th>\n",
       "      <th>user_id</th>\n",
       "      <th>date_year</th>\n",
       "      <th>stars</th>\n",
       "      <th>text</th>\n",
       "    </tr>\n",
       "  </thead>\n",
       "  <tbody>\n",
       "    <tr>\n",
       "      <th>0</th>\n",
       "      <td>2aFiy99vNLklCx3T_tGS9A</td>\n",
       "      <td>KpkOkG6RIf4Ra25Lhhxf1A</td>\n",
       "      <td>2011</td>\n",
       "      <td>5</td>\n",
       "      <td>If you enjoy service by someone who is as comp...</td>\n",
       "    </tr>\n",
       "    <tr>\n",
       "      <th>1</th>\n",
       "      <td>2aFiy99vNLklCx3T_tGS9A</td>\n",
       "      <td>bQ7fQq1otn9hKX-gXRsrgA</td>\n",
       "      <td>2010</td>\n",
       "      <td>5</td>\n",
       "      <td>After being on the phone with Verizon Wireless...</td>\n",
       "    </tr>\n",
       "    <tr>\n",
       "      <th>2</th>\n",
       "      <td>2aFiy99vNLklCx3T_tGS9A</td>\n",
       "      <td>r1NUhdNmL6yU9Bn-Yx6FTw</td>\n",
       "      <td>2011</td>\n",
       "      <td>5</td>\n",
       "      <td>Great service! Corey is very service oriented....</td>\n",
       "    </tr>\n",
       "  </tbody>\n",
       "</table>\n",
       "</div>"
      ],
      "text/plain": [
       "              business_id                 user_id  date_year  stars  \\\n",
       "0  2aFiy99vNLklCx3T_tGS9A  KpkOkG6RIf4Ra25Lhhxf1A       2011      5   \n",
       "1  2aFiy99vNLklCx3T_tGS9A  bQ7fQq1otn9hKX-gXRsrgA       2010      5   \n",
       "2  2aFiy99vNLklCx3T_tGS9A  r1NUhdNmL6yU9Bn-Yx6FTw       2011      5   \n",
       "\n",
       "                                                text  \n",
       "0  If you enjoy service by someone who is as comp...  \n",
       "1  After being on the phone with Verizon Wireless...  \n",
       "2  Great service! Corey is very service oriented....  "
      ]
     },
     "execution_count": 43,
     "metadata": {},
     "output_type": "execute_result"
    }
   ],
   "source": [
    "\n",
    "reviews_sample = reviews[:10000]\n",
    "reviews_sample = reviews_sample[reviews_variables]\n",
    "\n",
    "reviews_sample.head(3)\n",
    "\n"
   ]
  },
  {
   "cell_type": "markdown",
   "metadata": {},
   "source": [
    "#### Business sample"
   ]
  },
  {
   "cell_type": "code",
   "execution_count": 70,
   "metadata": {
    "collapsed": false
   },
   "outputs": [
    {
     "name": "stdout",
     "output_type": "stream",
     "text": [
      "Original number of business 144072\n",
      "Comments distribution:\n",
      "Std review_id    92.576557\n",
      "dtype: float64\n",
      "Median 9.0\n",
      "Mean review_id    28.826906\n",
      "dtype: float64\n",
      "\n",
      "After looking at the distribution of reviews per business:\n",
      "\n",
      "We have a mean of  review_id    19.626183\n",
      "dtype: float64 comments per business\n",
      "We want a sample of  10000 then we need  509\n"
     ]
    }
   ],
   "source": [
    "\n",
    "groups = reviews[ ['business_id','review_id'] ].groupby('business_id').count()\n",
    "\n",
    "print \"Original number of business\", len(groups)\n",
    "print \"Comments distribution:\"\n",
    "print \"Std\",np.std(groups)\n",
    "print \"Median\",np.median(groups)\n",
    "print \"Mean\",np.mean(groups)\n",
    "\n",
    "groupfilter  =  groups\n",
    "\n",
    "#pd.DataFrame(groupfilter.sort_values(by='review_id',ascending=False)).to_csv(\"yes.csv\")\n",
    "## percentile 0.98 has 200 reviews\n",
    "## print len(groupfilter[groupfilter.review_id < 200])    #  ->  140922\n",
    "\n",
    "groupfilter  = groupfilter[groupfilter.review_id < 200]\n",
    "\n",
    "sample_size = 10000\n",
    "\n",
    "print \"\\nAfter looking at the distribution of reviews per business:\\n\"\n",
    "print \"We have a mean of \", np.mean(groupfilter), \"comments per business\"\n",
    "sample_business_size = int(float(sample_size/np.mean(groupfilter)))\n",
    "print \"We want a sample of \", sample_size, \"then we need \", sample_business_size\n",
    "\n",
    "sample_biz_id = groupfilter.sample( sample_business_size )\n"
   ]
  },
  {
   "cell_type": "code",
   "execution_count": 71,
   "metadata": {
    "collapsed": false
   },
   "outputs": [
    {
     "data": {
      "text/html": [
       "<div>\n",
       "<table border=\"1\" class=\"dataframe\">\n",
       "  <thead>\n",
       "    <tr style=\"text-align: right;\">\n",
       "      <th></th>\n",
       "      <th>business_id</th>\n",
       "      <th>user_id</th>\n",
       "      <th>date_year</th>\n",
       "      <th>stars</th>\n",
       "      <th>text</th>\n",
       "    </tr>\n",
       "  </thead>\n",
       "  <tbody>\n",
       "    <tr>\n",
       "      <th>9751</th>\n",
       "      <td>Te-BqwJZt8S0fu9ltlq3Eg</td>\n",
       "      <td>9PmUzfxz3vamMaTzGSesyg</td>\n",
       "      <td>2014</td>\n",
       "      <td>2</td>\n",
       "      <td>the service at this place is awful .. too slow...</td>\n",
       "    </tr>\n",
       "    <tr>\n",
       "      <th>9752</th>\n",
       "      <td>Te-BqwJZt8S0fu9ltlq3Eg</td>\n",
       "      <td>J9ytHx0WNvYofenZ8BZj0w</td>\n",
       "      <td>2016</td>\n",
       "      <td>1</td>\n",
       "      <td>DO NOT waste your time or money going to this ...</td>\n",
       "    </tr>\n",
       "    <tr>\n",
       "      <th>9753</th>\n",
       "      <td>Te-BqwJZt8S0fu9ltlq3Eg</td>\n",
       "      <td>0m6Cfsn8KAmzFD01wO_BuA</td>\n",
       "      <td>2015</td>\n",
       "      <td>1</td>\n",
       "      <td>Good food, but TERRIBLE service. The hostess r...</td>\n",
       "    </tr>\n",
       "  </tbody>\n",
       "</table>\n",
       "</div>"
      ],
      "text/plain": [
       "                 business_id                 user_id  date_year  stars  \\\n",
       "9751  Te-BqwJZt8S0fu9ltlq3Eg  9PmUzfxz3vamMaTzGSesyg       2014      2   \n",
       "9752  Te-BqwJZt8S0fu9ltlq3Eg  J9ytHx0WNvYofenZ8BZj0w       2016      1   \n",
       "9753  Te-BqwJZt8S0fu9ltlq3Eg  0m6Cfsn8KAmzFD01wO_BuA       2015      1   \n",
       "\n",
       "                                                   text  \n",
       "9751  the service at this place is awful .. too slow...  \n",
       "9752  DO NOT waste your time or money going to this ...  \n",
       "9753  Good food, but TERRIBLE service. The hostess r...  "
      ]
     },
     "execution_count": 71,
     "metadata": {},
     "output_type": "execute_result"
    }
   ],
   "source": [
    "\n",
    "business_sample = reviews[ reviews['business_id'].isin( sample_biz_id.index ) ].reset_index()\n",
    "business_sample = business_sample[reviews_variables]\n",
    "\n",
    "business_sample.tail(3)\n"
   ]
  },
  {
   "cell_type": "markdown",
   "metadata": {},
   "source": [
    "#### User sample"
   ]
  },
  {
   "cell_type": "code",
   "execution_count": 72,
   "metadata": {
    "collapsed": false
   },
   "outputs": [
    {
     "name": "stdout",
     "output_type": "stream",
     "text": [
      "Original number of people 1029432\n",
      "Comments distribution:\n",
      "Std review_id    13.990401\n",
      "dtype: float64\n",
      "Median 1.0\n",
      "Mean review_id    4.034409\n",
      "dtype: float64\n",
      "1007870\n",
      "\n",
      "After looking at the distribution of reviews per person:\n",
      "\n",
      "We have a mean of  review_id    2.786598\n",
      "dtype: float64 comments per person\n",
      "We want a sample of  10000 then we need  3588\n"
     ]
    }
   ],
   "source": [
    "\n",
    "groups = reviews[ ['user_id','review_id'] ].groupby('user_id').count()\n",
    "\n",
    "print \"Original number of people\", len(groups)\n",
    "print \"Comments distribution:\"\n",
    "print \"Std\",np.std(groups)\n",
    "print \"Median\",np.median(groups)\n",
    "print \"Mean\",np.mean(groups)\n",
    "\n",
    "personfilter =  groups\n",
    "\n",
    "#pd.DataFrame(personfilter.sort_values(by='review_id',ascending=False)).to_csv(\"yes.csv\")\n",
    "## percentile 0.98 has 200 reviews\n",
    "print len(personfilter[personfilter.review_id < 25])    #  ->  1007870\n",
    "\n",
    "personfilter  = personfilter[personfilter.review_id < 25]\n",
    "\n",
    "sample_size = 10000\n",
    "\n",
    "print \"\\nAfter looking at the distribution of reviews per person:\\n\"\n",
    "print \"We have a mean of \", np.mean(personfilter), \"comments per person\"\n",
    "sample_user_size = int(float(sample_size/np.mean(personfilter)))\n",
    "print \"We want a sample of \", sample_size, \"then we need \", sample_user_size\n",
    "\n",
    "sample_usr_id = personfilter.sample( sample_user_size )\n"
   ]
  },
  {
   "cell_type": "code",
   "execution_count": 73,
   "metadata": {
    "collapsed": false
   },
   "outputs": [
    {
     "data": {
      "text/html": [
       "<div>\n",
       "<table border=\"1\" class=\"dataframe\">\n",
       "  <thead>\n",
       "    <tr style=\"text-align: right;\">\n",
       "      <th></th>\n",
       "      <th>business_id</th>\n",
       "      <th>user_id</th>\n",
       "      <th>date_year</th>\n",
       "      <th>stars</th>\n",
       "      <th>text</th>\n",
       "    </tr>\n",
       "  </thead>\n",
       "  <tbody>\n",
       "    <tr>\n",
       "      <th>10242</th>\n",
       "      <td>v6n4I3fA8eqmO4bnKieOIw</td>\n",
       "      <td>UeQRWJmzsVD-p-viIYIvAg</td>\n",
       "      <td>2014</td>\n",
       "      <td>4</td>\n",
       "      <td>Very nice course. Very well maintained. Beauti...</td>\n",
       "    </tr>\n",
       "    <tr>\n",
       "      <th>10243</th>\n",
       "      <td>rD32POdIhGN9eR8aUxl-3A</td>\n",
       "      <td>iaQZQj_FRlQ9HJCQtgJb2Q</td>\n",
       "      <td>2014</td>\n",
       "      <td>2</td>\n",
       "      <td>We love Chipotle and this location used to be ...</td>\n",
       "    </tr>\n",
       "    <tr>\n",
       "      <th>10244</th>\n",
       "      <td>oiTq668GwyXo5hMHjdW0kA</td>\n",
       "      <td>GvZiX0sFJpntoAVqRGpIWQ</td>\n",
       "      <td>2016</td>\n",
       "      <td>4</td>\n",
       "      <td>I've been to Stackd twice now and the food was...</td>\n",
       "    </tr>\n",
       "  </tbody>\n",
       "</table>\n",
       "</div>"
      ],
      "text/plain": [
       "                  business_id                 user_id  date_year  stars  \\\n",
       "10242  v6n4I3fA8eqmO4bnKieOIw  UeQRWJmzsVD-p-viIYIvAg       2014      4   \n",
       "10243  rD32POdIhGN9eR8aUxl-3A  iaQZQj_FRlQ9HJCQtgJb2Q       2014      2   \n",
       "10244  oiTq668GwyXo5hMHjdW0kA  GvZiX0sFJpntoAVqRGpIWQ       2016      4   \n",
       "\n",
       "                                                    text  \n",
       "10242  Very nice course. Very well maintained. Beauti...  \n",
       "10243  We love Chipotle and this location used to be ...  \n",
       "10244  I've been to Stackd twice now and the food was...  "
      ]
     },
     "execution_count": 73,
     "metadata": {},
     "output_type": "execute_result"
    }
   ],
   "source": [
    "\n",
    "users_sample = reviews[ reviews['user_id'].isin( sample_usr_id.index ) ].reset_index()\n",
    "users_sample = users_sample[reviews_variables]\n",
    "\n",
    "users_sample.tail(3)\n"
   ]
  },
  {
   "cell_type": "markdown",
   "metadata": {},
   "source": [
    "# 3. Joining metadata to comments -> Reviews sample"
   ]
  },
  {
   "cell_type": "code",
   "execution_count": 63,
   "metadata": {
    "collapsed": false
   },
   "outputs": [
    {
     "data": {
      "text/html": [
       "<div>\n",
       "<table border=\"1\" class=\"dataframe\">\n",
       "  <thead>\n",
       "    <tr style=\"text-align: right;\">\n",
       "      <th></th>\n",
       "      <th>business_id</th>\n",
       "      <th>user_id</th>\n",
       "      <th>date_year</th>\n",
       "      <th>stars</th>\n",
       "      <th>text</th>\n",
       "    </tr>\n",
       "  </thead>\n",
       "  <tbody>\n",
       "    <tr>\n",
       "      <th>9997</th>\n",
       "      <td>-tLxryf1OpzVP9OSrznprg</td>\n",
       "      <td>b1Qf5tcu5R-kySnNrFPYew</td>\n",
       "      <td>2014</td>\n",
       "      <td>5</td>\n",
       "      <td>I have been putting a focus on my health for t...</td>\n",
       "    </tr>\n",
       "    <tr>\n",
       "      <th>9998</th>\n",
       "      <td>-tLxryf1OpzVP9OSrznprg</td>\n",
       "      <td>GS3dVZYhg41LoTNAXWSoUw</td>\n",
       "      <td>2014</td>\n",
       "      <td>5</td>\n",
       "      <td>Dr. Trotter is excellent at what he does. I've...</td>\n",
       "    </tr>\n",
       "    <tr>\n",
       "      <th>9999</th>\n",
       "      <td>-tLxryf1OpzVP9OSrznprg</td>\n",
       "      <td>cD35x9Q9ARsJkD5PQfyJOA</td>\n",
       "      <td>2011</td>\n",
       "      <td>5</td>\n",
       "      <td>Prior to visiting Zentai Wellness, I was havin...</td>\n",
       "    </tr>\n",
       "  </tbody>\n",
       "</table>\n",
       "</div>"
      ],
      "text/plain": [
       "                 business_id                 user_id  date_year  stars  \\\n",
       "9997  -tLxryf1OpzVP9OSrznprg  b1Qf5tcu5R-kySnNrFPYew       2014      5   \n",
       "9998  -tLxryf1OpzVP9OSrznprg  GS3dVZYhg41LoTNAXWSoUw       2014      5   \n",
       "9999  -tLxryf1OpzVP9OSrznprg  cD35x9Q9ARsJkD5PQfyJOA       2011      5   \n",
       "\n",
       "                                                   text  \n",
       "9997  I have been putting a focus on my health for t...  \n",
       "9998  Dr. Trotter is excellent at what he does. I've...  \n",
       "9999  Prior to visiting Zentai Wellness, I was havin...  "
      ]
     },
     "execution_count": 63,
     "metadata": {},
     "output_type": "execute_result"
    }
   ],
   "source": [
    "\n",
    "sample_dataset = reviews_sample\n",
    "sample_dataset.tail(3)\n"
   ]
  },
  {
   "cell_type": "markdown",
   "metadata": {},
   "source": [
    "## 3.1. Join: Reviews and user's info"
   ]
  },
  {
   "cell_type": "code",
   "execution_count": 27,
   "metadata": {
    "collapsed": false
   },
   "outputs": [],
   "source": [
    "\n",
    "user_data_selected = users[user_variables]\n",
    "\n",
    "user_data_selected.columns = [ \"usr_\"+col if col != \"user_id\" else col for col in user_data_selected.columns ]\n",
    "rev_user = pd.merge(sample_dataset, user_data_selected, on = \"user_id\", how = \"left\")\n"
   ]
  },
  {
   "cell_type": "code",
   "execution_count": 28,
   "metadata": {
    "collapsed": false
   },
   "outputs": [
    {
     "data": {
      "text/html": [
       "<div>\n",
       "<table border=\"1\" class=\"dataframe\">\n",
       "  <thead>\n",
       "    <tr style=\"text-align: right;\">\n",
       "      <th></th>\n",
       "      <th>business_id</th>\n",
       "      <th>user_id</th>\n",
       "      <th>date_year</th>\n",
       "      <th>stars</th>\n",
       "      <th>text</th>\n",
       "      <th>usr_average_stars</th>\n",
       "      <th>usr_yelping_since_year</th>\n",
       "    </tr>\n",
       "  </thead>\n",
       "  <tbody>\n",
       "    <tr>\n",
       "      <th>9997</th>\n",
       "      <td>-tLxryf1OpzVP9OSrznprg</td>\n",
       "      <td>b1Qf5tcu5R-kySnNrFPYew</td>\n",
       "      <td>2014</td>\n",
       "      <td>5</td>\n",
       "      <td>I have been putting a focus on my health for t...</td>\n",
       "      <td>4.17</td>\n",
       "      <td>2014</td>\n",
       "    </tr>\n",
       "    <tr>\n",
       "      <th>9998</th>\n",
       "      <td>-tLxryf1OpzVP9OSrznprg</td>\n",
       "      <td>GS3dVZYhg41LoTNAXWSoUw</td>\n",
       "      <td>2014</td>\n",
       "      <td>5</td>\n",
       "      <td>Dr. Trotter is excellent at what he does. I've...</td>\n",
       "      <td>4.28</td>\n",
       "      <td>2012</td>\n",
       "    </tr>\n",
       "    <tr>\n",
       "      <th>9999</th>\n",
       "      <td>-tLxryf1OpzVP9OSrznprg</td>\n",
       "      <td>cD35x9Q9ARsJkD5PQfyJOA</td>\n",
       "      <td>2011</td>\n",
       "      <td>5</td>\n",
       "      <td>Prior to visiting Zentai Wellness, I was havin...</td>\n",
       "      <td>3.22</td>\n",
       "      <td>2011</td>\n",
       "    </tr>\n",
       "  </tbody>\n",
       "</table>\n",
       "</div>"
      ],
      "text/plain": [
       "                 business_id                 user_id  date_year  stars  \\\n",
       "9997  -tLxryf1OpzVP9OSrznprg  b1Qf5tcu5R-kySnNrFPYew       2014      5   \n",
       "9998  -tLxryf1OpzVP9OSrznprg  GS3dVZYhg41LoTNAXWSoUw       2014      5   \n",
       "9999  -tLxryf1OpzVP9OSrznprg  cD35x9Q9ARsJkD5PQfyJOA       2011      5   \n",
       "\n",
       "                                                   text  usr_average_stars  \\\n",
       "9997  I have been putting a focus on my health for t...               4.17   \n",
       "9998  Dr. Trotter is excellent at what he does. I've...               4.28   \n",
       "9999  Prior to visiting Zentai Wellness, I was havin...               3.22   \n",
       "\n",
       "      usr_yelping_since_year  \n",
       "9997                    2014  \n",
       "9998                    2012  \n",
       "9999                    2011  "
      ]
     },
     "execution_count": 28,
     "metadata": {},
     "output_type": "execute_result"
    }
   ],
   "source": [
    "\n",
    "rev_user.tail(3)\n"
   ]
  },
  {
   "cell_type": "markdown",
   "metadata": {
    "collapsed": true
   },
   "source": [
    "## 3.2. Join: Reviews and business info "
   ]
  },
  {
   "cell_type": "code",
   "execution_count": 29,
   "metadata": {
    "collapsed": false
   },
   "outputs": [],
   "source": [
    "\n",
    "business_data_selected = businesses_sparse[business_variables]\n",
    "\n",
    "business_data_selected.columns = [ \"biz_\"+col if col != \"business_id\" else col for col in business_data_selected.columns ]\n",
    "rev_user_biz = pd.merge(rev_user, business_data_selected, on = \"business_id\", how = \"left\")\n"
   ]
  },
  {
   "cell_type": "code",
   "execution_count": 30,
   "metadata": {
    "collapsed": false
   },
   "outputs": [
    {
     "name": "stdout",
     "output_type": "stream",
     "text": [
      "(10000, 10000)\n"
     ]
    },
    {
     "data": {
      "text/html": [
       "<div>\n",
       "<table border=\"1\" class=\"dataframe\">\n",
       "  <thead>\n",
       "    <tr style=\"text-align: right;\">\n",
       "      <th></th>\n",
       "      <th>business_id</th>\n",
       "      <th>user_id</th>\n",
       "      <th>date_year</th>\n",
       "      <th>stars</th>\n",
       "      <th>text</th>\n",
       "      <th>usr_average_stars</th>\n",
       "      <th>usr_yelping_since_year</th>\n",
       "      <th>biz_is_open</th>\n",
       "      <th>biz_latitude</th>\n",
       "      <th>biz_longitude</th>\n",
       "      <th>...</th>\n",
       "      <th>biz_catBiz_Wine Tours</th>\n",
       "      <th>biz_catBiz_Wineries</th>\n",
       "      <th>biz_catBiz_Wok</th>\n",
       "      <th>biz_catBiz_Women's Clothing</th>\n",
       "      <th>biz_catBiz_Workers Compensation Law</th>\n",
       "      <th>biz_catBiz_Wraps</th>\n",
       "      <th>biz_catBiz_Yelp Events</th>\n",
       "      <th>biz_catBiz_Yoga</th>\n",
       "      <th>biz_catBiz_Ziplining</th>\n",
       "      <th>biz_catBiz_Zoos</th>\n",
       "    </tr>\n",
       "  </thead>\n",
       "  <tbody>\n",
       "    <tr>\n",
       "      <th>9997</th>\n",
       "      <td>-tLxryf1OpzVP9OSrznprg</td>\n",
       "      <td>b1Qf5tcu5R-kySnNrFPYew</td>\n",
       "      <td>2014</td>\n",
       "      <td>5</td>\n",
       "      <td>I have been putting a focus on my health for t...</td>\n",
       "      <td>4.17</td>\n",
       "      <td>2014</td>\n",
       "      <td>1</td>\n",
       "      <td>43.662735</td>\n",
       "      <td>-79.376436</td>\n",
       "      <td>...</td>\n",
       "      <td>0.0</td>\n",
       "      <td>0.0</td>\n",
       "      <td>0.0</td>\n",
       "      <td>0.0</td>\n",
       "      <td>0.0</td>\n",
       "      <td>0.0</td>\n",
       "      <td>0.0</td>\n",
       "      <td>0.0</td>\n",
       "      <td>0.0</td>\n",
       "      <td>0.0</td>\n",
       "    </tr>\n",
       "    <tr>\n",
       "      <th>9998</th>\n",
       "      <td>-tLxryf1OpzVP9OSrznprg</td>\n",
       "      <td>GS3dVZYhg41LoTNAXWSoUw</td>\n",
       "      <td>2014</td>\n",
       "      <td>5</td>\n",
       "      <td>Dr. Trotter is excellent at what he does. I've...</td>\n",
       "      <td>4.28</td>\n",
       "      <td>2012</td>\n",
       "      <td>1</td>\n",
       "      <td>43.662735</td>\n",
       "      <td>-79.376436</td>\n",
       "      <td>...</td>\n",
       "      <td>0.0</td>\n",
       "      <td>0.0</td>\n",
       "      <td>0.0</td>\n",
       "      <td>0.0</td>\n",
       "      <td>0.0</td>\n",
       "      <td>0.0</td>\n",
       "      <td>0.0</td>\n",
       "      <td>0.0</td>\n",
       "      <td>0.0</td>\n",
       "      <td>0.0</td>\n",
       "    </tr>\n",
       "    <tr>\n",
       "      <th>9999</th>\n",
       "      <td>-tLxryf1OpzVP9OSrznprg</td>\n",
       "      <td>cD35x9Q9ARsJkD5PQfyJOA</td>\n",
       "      <td>2011</td>\n",
       "      <td>5</td>\n",
       "      <td>Prior to visiting Zentai Wellness, I was havin...</td>\n",
       "      <td>3.22</td>\n",
       "      <td>2011</td>\n",
       "      <td>1</td>\n",
       "      <td>43.662735</td>\n",
       "      <td>-79.376436</td>\n",
       "      <td>...</td>\n",
       "      <td>0.0</td>\n",
       "      <td>0.0</td>\n",
       "      <td>0.0</td>\n",
       "      <td>0.0</td>\n",
       "      <td>0.0</td>\n",
       "      <td>0.0</td>\n",
       "      <td>0.0</td>\n",
       "      <td>0.0</td>\n",
       "      <td>0.0</td>\n",
       "      <td>0.0</td>\n",
       "    </tr>\n",
       "  </tbody>\n",
       "</table>\n",
       "<p>3 rows × 2488 columns</p>\n",
       "</div>"
      ],
      "text/plain": [
       "                 business_id                 user_id  date_year  stars  \\\n",
       "9997  -tLxryf1OpzVP9OSrznprg  b1Qf5tcu5R-kySnNrFPYew       2014      5   \n",
       "9998  -tLxryf1OpzVP9OSrznprg  GS3dVZYhg41LoTNAXWSoUw       2014      5   \n",
       "9999  -tLxryf1OpzVP9OSrznprg  cD35x9Q9ARsJkD5PQfyJOA       2011      5   \n",
       "\n",
       "                                                   text  usr_average_stars  \\\n",
       "9997  I have been putting a focus on my health for t...               4.17   \n",
       "9998  Dr. Trotter is excellent at what he does. I've...               4.28   \n",
       "9999  Prior to visiting Zentai Wellness, I was havin...               3.22   \n",
       "\n",
       "      usr_yelping_since_year  biz_is_open  biz_latitude  biz_longitude  \\\n",
       "9997                    2014            1     43.662735     -79.376436   \n",
       "9998                    2012            1     43.662735     -79.376436   \n",
       "9999                    2011            1     43.662735     -79.376436   \n",
       "\n",
       "           ...        biz_catBiz_Wine Tours  biz_catBiz_Wineries  \\\n",
       "9997       ...                          0.0                  0.0   \n",
       "9998       ...                          0.0                  0.0   \n",
       "9999       ...                          0.0                  0.0   \n",
       "\n",
       "      biz_catBiz_Wok  biz_catBiz_Women's Clothing  \\\n",
       "9997             0.0                          0.0   \n",
       "9998             0.0                          0.0   \n",
       "9999             0.0                          0.0   \n",
       "\n",
       "      biz_catBiz_Workers Compensation Law  biz_catBiz_Wraps  \\\n",
       "9997                                  0.0               0.0   \n",
       "9998                                  0.0               0.0   \n",
       "9999                                  0.0               0.0   \n",
       "\n",
       "      biz_catBiz_Yelp Events  biz_catBiz_Yoga  biz_catBiz_Ziplining  \\\n",
       "9997                     0.0              0.0                   0.0   \n",
       "9998                     0.0              0.0                   0.0   \n",
       "9999                     0.0              0.0                   0.0   \n",
       "\n",
       "      biz_catBiz_Zoos  \n",
       "9997              0.0  \n",
       "9998              0.0  \n",
       "9999              0.0  \n",
       "\n",
       "[3 rows x 2488 columns]"
      ]
     },
     "execution_count": 30,
     "metadata": {},
     "output_type": "execute_result"
    }
   ],
   "source": [
    "\n",
    "print(len(rev_user_biz), len(reviews_sample))\n",
    "rev_user_biz.tail(3)\n"
   ]
  },
  {
   "cell_type": "markdown",
   "metadata": {
    "collapsed": true
   },
   "source": [
    "## 3.3. Create new variables"
   ]
  },
  {
   "cell_type": "code",
   "execution_count": 31,
   "metadata": {
    "collapsed": false
   },
   "outputs": [],
   "source": [
    "\n",
    "rev_user_biz['usr_year_experience'] = rev_user_biz['date_year']-rev_user_biz['usr_yelping_since_year']\n",
    "\n",
    "import math\n",
    "rev_user_biz['usr_average_stars'] = rev_user_biz['usr_average_stars'].map(lambda x: 0.5 * math.ceil(2.0 * round(x,1)))\n",
    "rev_user_biz['usr_stars_bias']= rev_user_biz['usr_average_stars']-rev_user_biz['biz_stars']\n",
    "\n",
    "rev_user_biz = rev_user_biz.drop('usr_yelping_since_year',axis=1)\n",
    "rev_user_biz = rev_user_biz.drop('biz_stars',axis=1)\n",
    "rev_user_biz = rev_user_biz.drop('usr_average_stars',axis=1)\n"
   ]
  },
  {
   "cell_type": "code",
   "execution_count": 32,
   "metadata": {
    "collapsed": false
   },
   "outputs": [
    {
     "data": {
      "text/html": [
       "<div>\n",
       "<table border=\"1\" class=\"dataframe\">\n",
       "  <thead>\n",
       "    <tr style=\"text-align: right;\">\n",
       "      <th></th>\n",
       "      <th>business_id</th>\n",
       "      <th>user_id</th>\n",
       "      <th>date_year</th>\n",
       "      <th>stars</th>\n",
       "      <th>text</th>\n",
       "      <th>biz_is_open</th>\n",
       "      <th>biz_latitude</th>\n",
       "      <th>biz_longitude</th>\n",
       "      <th>biz_name</th>\n",
       "      <th>biz_state_AZ</th>\n",
       "      <th>...</th>\n",
       "      <th>biz_catBiz_Wok</th>\n",
       "      <th>biz_catBiz_Women's Clothing</th>\n",
       "      <th>biz_catBiz_Workers Compensation Law</th>\n",
       "      <th>biz_catBiz_Wraps</th>\n",
       "      <th>biz_catBiz_Yelp Events</th>\n",
       "      <th>biz_catBiz_Yoga</th>\n",
       "      <th>biz_catBiz_Ziplining</th>\n",
       "      <th>biz_catBiz_Zoos</th>\n",
       "      <th>usr_year_experience</th>\n",
       "      <th>usr_stars_bias</th>\n",
       "    </tr>\n",
       "  </thead>\n",
       "  <tbody>\n",
       "    <tr>\n",
       "      <th>0</th>\n",
       "      <td>2aFiy99vNLklCx3T_tGS9A</td>\n",
       "      <td>KpkOkG6RIf4Ra25Lhhxf1A</td>\n",
       "      <td>2011</td>\n",
       "      <td>5</td>\n",
       "      <td>If you enjoy service by someone who is as comp...</td>\n",
       "      <td>1</td>\n",
       "      <td>33.662944</td>\n",
       "      <td>-112.018233</td>\n",
       "      <td>SharpieTech</td>\n",
       "      <td>1</td>\n",
       "      <td>...</td>\n",
       "      <td>0.0</td>\n",
       "      <td>0.0</td>\n",
       "      <td>0.0</td>\n",
       "      <td>0.0</td>\n",
       "      <td>0.0</td>\n",
       "      <td>0.0</td>\n",
       "      <td>0.0</td>\n",
       "      <td>0.0</td>\n",
       "      <td>0</td>\n",
       "      <td>-1.0</td>\n",
       "    </tr>\n",
       "    <tr>\n",
       "      <th>1</th>\n",
       "      <td>2aFiy99vNLklCx3T_tGS9A</td>\n",
       "      <td>bQ7fQq1otn9hKX-gXRsrgA</td>\n",
       "      <td>2010</td>\n",
       "      <td>5</td>\n",
       "      <td>After being on the phone with Verizon Wireless...</td>\n",
       "      <td>1</td>\n",
       "      <td>33.662944</td>\n",
       "      <td>-112.018233</td>\n",
       "      <td>SharpieTech</td>\n",
       "      <td>1</td>\n",
       "      <td>...</td>\n",
       "      <td>0.0</td>\n",
       "      <td>0.0</td>\n",
       "      <td>0.0</td>\n",
       "      <td>0.0</td>\n",
       "      <td>0.0</td>\n",
       "      <td>0.0</td>\n",
       "      <td>0.0</td>\n",
       "      <td>0.0</td>\n",
       "      <td>0</td>\n",
       "      <td>-0.5</td>\n",
       "    </tr>\n",
       "    <tr>\n",
       "      <th>2</th>\n",
       "      <td>2aFiy99vNLklCx3T_tGS9A</td>\n",
       "      <td>r1NUhdNmL6yU9Bn-Yx6FTw</td>\n",
       "      <td>2011</td>\n",
       "      <td>5</td>\n",
       "      <td>Great service! Corey is very service oriented....</td>\n",
       "      <td>1</td>\n",
       "      <td>33.662944</td>\n",
       "      <td>-112.018233</td>\n",
       "      <td>SharpieTech</td>\n",
       "      <td>1</td>\n",
       "      <td>...</td>\n",
       "      <td>0.0</td>\n",
       "      <td>0.0</td>\n",
       "      <td>0.0</td>\n",
       "      <td>0.0</td>\n",
       "      <td>0.0</td>\n",
       "      <td>0.0</td>\n",
       "      <td>0.0</td>\n",
       "      <td>0.0</td>\n",
       "      <td>0</td>\n",
       "      <td>-1.0</td>\n",
       "    </tr>\n",
       "  </tbody>\n",
       "</table>\n",
       "<p>3 rows × 2487 columns</p>\n",
       "</div>"
      ],
      "text/plain": [
       "              business_id                 user_id  date_year  stars  \\\n",
       "0  2aFiy99vNLklCx3T_tGS9A  KpkOkG6RIf4Ra25Lhhxf1A       2011      5   \n",
       "1  2aFiy99vNLklCx3T_tGS9A  bQ7fQq1otn9hKX-gXRsrgA       2010      5   \n",
       "2  2aFiy99vNLklCx3T_tGS9A  r1NUhdNmL6yU9Bn-Yx6FTw       2011      5   \n",
       "\n",
       "                                                text  biz_is_open  \\\n",
       "0  If you enjoy service by someone who is as comp...            1   \n",
       "1  After being on the phone with Verizon Wireless...            1   \n",
       "2  Great service! Corey is very service oriented....            1   \n",
       "\n",
       "   biz_latitude  biz_longitude     biz_name  biz_state_AZ       ...        \\\n",
       "0     33.662944    -112.018233  SharpieTech             1       ...         \n",
       "1     33.662944    -112.018233  SharpieTech             1       ...         \n",
       "2     33.662944    -112.018233  SharpieTech             1       ...         \n",
       "\n",
       "   biz_catBiz_Wok  biz_catBiz_Women's Clothing  \\\n",
       "0             0.0                          0.0   \n",
       "1             0.0                          0.0   \n",
       "2             0.0                          0.0   \n",
       "\n",
       "   biz_catBiz_Workers Compensation Law  biz_catBiz_Wraps  \\\n",
       "0                                  0.0               0.0   \n",
       "1                                  0.0               0.0   \n",
       "2                                  0.0               0.0   \n",
       "\n",
       "   biz_catBiz_Yelp Events  biz_catBiz_Yoga  biz_catBiz_Ziplining  \\\n",
       "0                     0.0              0.0                   0.0   \n",
       "1                     0.0              0.0                   0.0   \n",
       "2                     0.0              0.0                   0.0   \n",
       "\n",
       "   biz_catBiz_Zoos  usr_year_experience  usr_stars_bias  \n",
       "0              0.0                    0            -1.0  \n",
       "1              0.0                    0            -0.5  \n",
       "2              0.0                    0            -1.0  \n",
       "\n",
       "[3 rows x 2487 columns]"
      ]
     },
     "execution_count": 32,
     "metadata": {},
     "output_type": "execute_result"
    }
   ],
   "source": [
    "rev_user_biz.head(3)"
   ]
  },
  {
   "cell_type": "markdown",
   "metadata": {
    "collapsed": true
   },
   "source": [
    "## 3.4. Clean Text "
   ]
  },
  {
   "cell_type": "code",
   "execution_count": 33,
   "metadata": {
    "collapsed": false
   },
   "outputs": [],
   "source": [
    "\n",
    "from nltk.corpus import stopwords\n",
    "stopw = set(stopwords.words('english'))\n",
    "\n",
    "from sklearn.feature_extraction.text import CountVectorizer\n",
    "from sklearn.feature_extraction.text import TfidfVectorizer\n"
   ]
  },
  {
   "cell_type": "code",
   "execution_count": 34,
   "metadata": {
    "collapsed": true
   },
   "outputs": [],
   "source": [
    "\n",
    "import re\n",
    "\n",
    "def clean_str(string):\n",
    "    \"\"\"\n",
    "    Tokenization/string cleaning for all datasets except for SST.\n",
    "    Original taken from https://github.com/yoonkim/CNN_sentence/blob/master/process_data.py\n",
    "    \"\"\"\n",
    "    string = re.sub(r\"[^A-Za-z0-9]\", \" \", string)     \n",
    "    string = re.sub(r\"\\'s\", \" \\'s\", string) \n",
    "    string = re.sub(r\"\\'ve\", \" \\'ve\", string) \n",
    "    string = re.sub(r\"n\\'t\", \" n\\'t\", string) \n",
    "    string = re.sub(r\"\\'re\", \" \\'re\", string) \n",
    "    string = re.sub(r\"\\'d\", \" \\'d\", string) \n",
    "    string = re.sub(r\"\\'ll\", \" \\'ll\", string) \n",
    "    string = re.sub(r\",\", \" , \", string) \n",
    "    string = re.sub(r\"!\", \" ! \", string) \n",
    "    string = re.sub(r\"\\(\", \" \\( \", string) \n",
    "    string = re.sub(r\"\\)\", \" \\) \", string) \n",
    "    string = re.sub(r\"\\?\", \" \\? \", string) \n",
    "    string = re.sub(r\"\\s{2,}\", \" \", string) \n",
    "    #string = re.sub(r'\\([^)]*\\)', '', string)\n",
    "\n",
    "    return string.strip().lower()\n",
    "\n",
    "#cleaned_text = []\n",
    "#for review in text_variable:\n",
    "#    cleaned_text.append( [str(word) for word in clean_str(review).split()] )\n"
   ]
  },
  {
   "cell_type": "code",
   "execution_count": 35,
   "metadata": {
    "collapsed": false
   },
   "outputs": [
    {
     "data": {
      "text/plain": [
       "<10000x477242 sparse matrix of type '<type 'numpy.int64'>'\n",
       "\twith 1159818 stored elements in Compressed Sparse Row format>"
      ]
     },
     "execution_count": 35,
     "metadata": {},
     "output_type": "execute_result"
    }
   ],
   "source": [
    "\n",
    "text_variable = rev_user_biz['text']\n",
    "\n",
    "cleaned_text = text_variable.map(lambda x: clean_str(x).split())\n",
    "cleaned_text = pd.Series(cleaned_text).map(lambda x: [word for word in x if word not in stopw] )\n",
    "\n",
    "binary_vectorizer1 = CountVectorizer(binary=True,ngram_range=(0,2), stop_words=stopw)\n",
    "clean_review = text_variable.map(lambda x: clean_str(x))\n",
    "binary_vectorizer1.fit( clean_review )\n",
    "\n",
    "rev_text_binary = binary_vectorizer1.transform( clean_review )\n",
    "rev_text_binary\n"
   ]
  },
  {
   "cell_type": "code",
   "execution_count": 36,
   "metadata": {
    "collapsed": false
   },
   "outputs": [
    {
     "data": {
      "text/plain": [
       "[(u'', 0),\n",
       " (u'served let', 368152),\n",
       " (u'say say', 359040),\n",
       " (u'mattress ready', 256048),\n",
       " (u'dance clubs', 101856),\n",
       " (u'fearful food', 151388),\n",
       " (u'gah', 170547),\n",
       " (u'ppchen tolle', 320292),\n",
       " (u'say saw', 359039),\n",
       " (u'noon missed', 282115)]"
      ]
     },
     "execution_count": 36,
     "metadata": {},
     "output_type": "execute_result"
    }
   ],
   "source": [
    "\n",
    "vocabulary_list1 = list(zip( binary_vectorizer1.vocabulary_.keys(), binary_vectorizer1.vocabulary_.values()) )\n",
    "vocabulary_list1[0:10]\n"
   ]
  },
  {
   "cell_type": "code",
   "execution_count": 37,
   "metadata": {
    "collapsed": false
   },
   "outputs": [
    {
     "data": {
      "text/plain": [
       "<10000x4177 sparse matrix of type '<type 'numpy.int64'>'\n",
       "\twith 50628 stored elements in Compressed Sparse Row format>"
      ]
     },
     "execution_count": 37,
     "metadata": {},
     "output_type": "execute_result"
    }
   ],
   "source": [
    "\n",
    "text_variable = rev_user_biz['biz_name']\n",
    "\n",
    "cleaned_name = text_variable.map(lambda x: clean_str(x).split())\n",
    "cleaned_name = pd.Series(cleaned_text).map(lambda x: [word for word in x if word not in stopw] )\n",
    "\n",
    "binary_vectorizer2 = CountVectorizer(binary=True,ngram_range=(0,2), stop_words=stopw)\n",
    "clean_review = text_variable.map(lambda x: clean_str(x))\n",
    "binary_vectorizer2.fit( clean_review )\n",
    "\n",
    "rev_name_binary = binary_vectorizer2.transform( clean_review )\n",
    "rev_name_binary\n"
   ]
  },
  {
   "cell_type": "code",
   "execution_count": 38,
   "metadata": {
    "collapsed": false
   },
   "outputs": [
    {
     "data": {
      "text/plain": [
       "[(u'', 0),\n",
       " (u'john varvatos', 2047),\n",
       " (u'luckenbooth caf', 2340),\n",
       " (u'sichuan', 3426),\n",
       " (u'asian', 205),\n",
       " (u'francesco', 1564),\n",
       " (u'battleground', 346),\n",
       " (u'canyon park', 671),\n",
       " (u'sweetlix', 3692),\n",
       " (u'chiropractic health', 801)]"
      ]
     },
     "execution_count": 38,
     "metadata": {},
     "output_type": "execute_result"
    }
   ],
   "source": [
    "\n",
    "vocabulary_list2 = list(zip( binary_vectorizer2.vocabulary_.keys(), binary_vectorizer2.vocabulary_.values()) )\n",
    "vocabulary_list2[0:10]\n"
   ]
  },
  {
   "cell_type": "code",
   "execution_count": 39,
   "metadata": {
    "collapsed": false
   },
   "outputs": [
    {
     "data": {
      "text/plain": [
       "<10000x481419 sparse matrix of type '<type 'numpy.int64'>'\n",
       "\twith 1210446 stored elements in COOrdinate format>"
      ]
     },
     "execution_count": 39,
     "metadata": {},
     "output_type": "execute_result"
    }
   ],
   "source": [
    "\n",
    "from scipy.sparse import coo_matrix, hstack\n",
    "\n",
    "stack_txt = hstack( [rev_text_binary, rev_name_binary] )\n",
    "stack_txt\n"
   ]
  },
  {
   "cell_type": "markdown",
   "metadata": {},
   "source": [
    "## 3.5 Pandas to Sparse (numerical and categorical/dummies)"
   ]
  },
  {
   "cell_type": "code",
   "execution_count": 40,
   "metadata": {
    "collapsed": false
   },
   "outputs": [
    {
     "name": "stdout",
     "output_type": "stream",
     "text": [
      "DataFrame\n",
      "   0  1\n",
      "0  1  2\n",
      "1  3  4\n",
      "2  5  6\n",
      "\n",
      "DataFrame to list\n",
      "[[1, 3, 5], [2, 4, 6]]\n",
      "\n",
      "Data in Sparse from DataFrame\n",
      "[[1 2]\n",
      " [3 4]\n",
      " [5 6]]\n"
     ]
    },
    {
     "data": {
      "text/plain": [
       "<3x2 sparse matrix of type '<type 'numpy.int64'>'\n",
       "\twith 6 stored elements in COOrdinate format>"
      ]
     },
     "execution_count": 40,
     "metadata": {},
     "output_type": "execute_result"
    }
   ],
   "source": [
    "\n",
    "##### Example of sparse matrix for the rest of the data\n",
    "\n",
    "row1 = [1, 2]\n",
    "row2 = [3, 4]\n",
    "row3 = [5, 6]\n",
    "rows = pd.DataFrame([row1,row2,row3])\n",
    "\n",
    "print \"DataFrame\\n\", rows\n",
    "print \"\\nDataFrame to list\\n\", rows.transpose().values.tolist()\n",
    "\n",
    "A = coo_matrix( rows )\n",
    "print \"\\nData in Sparse from DataFrame\\n\", A.toarray()\n",
    "A\n"
   ]
  },
  {
   "cell_type": "code",
   "execution_count": 41,
   "metadata": {
    "collapsed": false,
    "scrolled": false
   },
   "outputs": [
    {
     "data": {
      "text/html": [
       "<div>\n",
       "<table border=\"1\" class=\"dataframe\">\n",
       "  <thead>\n",
       "    <tr style=\"text-align: right;\">\n",
       "      <th></th>\n",
       "      <th>date_year</th>\n",
       "      <th>stars</th>\n",
       "      <th>biz_is_open</th>\n",
       "      <th>biz_latitude</th>\n",
       "      <th>biz_longitude</th>\n",
       "      <th>biz_state_AZ</th>\n",
       "      <th>biz_state_BW</th>\n",
       "      <th>biz_state_EDH</th>\n",
       "      <th>biz_state_ELN</th>\n",
       "      <th>biz_state_ESX</th>\n",
       "      <th>...</th>\n",
       "      <th>biz_catBiz_Wok</th>\n",
       "      <th>biz_catBiz_Women's Clothing</th>\n",
       "      <th>biz_catBiz_Workers Compensation Law</th>\n",
       "      <th>biz_catBiz_Wraps</th>\n",
       "      <th>biz_catBiz_Yelp Events</th>\n",
       "      <th>biz_catBiz_Yoga</th>\n",
       "      <th>biz_catBiz_Ziplining</th>\n",
       "      <th>biz_catBiz_Zoos</th>\n",
       "      <th>usr_year_experience</th>\n",
       "      <th>usr_stars_bias</th>\n",
       "    </tr>\n",
       "  </thead>\n",
       "  <tbody>\n",
       "    <tr>\n",
       "      <th>0</th>\n",
       "      <td>2011</td>\n",
       "      <td>5</td>\n",
       "      <td>1</td>\n",
       "      <td>33.662944</td>\n",
       "      <td>-112.018233</td>\n",
       "      <td>1</td>\n",
       "      <td>0</td>\n",
       "      <td>0</td>\n",
       "      <td>0</td>\n",
       "      <td>0</td>\n",
       "      <td>...</td>\n",
       "      <td>0.0</td>\n",
       "      <td>0.0</td>\n",
       "      <td>0.0</td>\n",
       "      <td>0.0</td>\n",
       "      <td>0.0</td>\n",
       "      <td>0.0</td>\n",
       "      <td>0.0</td>\n",
       "      <td>0.0</td>\n",
       "      <td>0</td>\n",
       "      <td>-1.0</td>\n",
       "    </tr>\n",
       "    <tr>\n",
       "      <th>1</th>\n",
       "      <td>2010</td>\n",
       "      <td>5</td>\n",
       "      <td>1</td>\n",
       "      <td>33.662944</td>\n",
       "      <td>-112.018233</td>\n",
       "      <td>1</td>\n",
       "      <td>0</td>\n",
       "      <td>0</td>\n",
       "      <td>0</td>\n",
       "      <td>0</td>\n",
       "      <td>...</td>\n",
       "      <td>0.0</td>\n",
       "      <td>0.0</td>\n",
       "      <td>0.0</td>\n",
       "      <td>0.0</td>\n",
       "      <td>0.0</td>\n",
       "      <td>0.0</td>\n",
       "      <td>0.0</td>\n",
       "      <td>0.0</td>\n",
       "      <td>0</td>\n",
       "      <td>-0.5</td>\n",
       "    </tr>\n",
       "    <tr>\n",
       "      <th>2</th>\n",
       "      <td>2011</td>\n",
       "      <td>5</td>\n",
       "      <td>1</td>\n",
       "      <td>33.662944</td>\n",
       "      <td>-112.018233</td>\n",
       "      <td>1</td>\n",
       "      <td>0</td>\n",
       "      <td>0</td>\n",
       "      <td>0</td>\n",
       "      <td>0</td>\n",
       "      <td>...</td>\n",
       "      <td>0.0</td>\n",
       "      <td>0.0</td>\n",
       "      <td>0.0</td>\n",
       "      <td>0.0</td>\n",
       "      <td>0.0</td>\n",
       "      <td>0.0</td>\n",
       "      <td>0.0</td>\n",
       "      <td>0.0</td>\n",
       "      <td>0</td>\n",
       "      <td>-1.0</td>\n",
       "    </tr>\n",
       "    <tr>\n",
       "      <th>3</th>\n",
       "      <td>2014</td>\n",
       "      <td>5</td>\n",
       "      <td>0</td>\n",
       "      <td>33.504054</td>\n",
       "      <td>-112.082813</td>\n",
       "      <td>1</td>\n",
       "      <td>0</td>\n",
       "      <td>0</td>\n",
       "      <td>0</td>\n",
       "      <td>0</td>\n",
       "      <td>...</td>\n",
       "      <td>0.0</td>\n",
       "      <td>0.0</td>\n",
       "      <td>0.0</td>\n",
       "      <td>0.0</td>\n",
       "      <td>0.0</td>\n",
       "      <td>0.0</td>\n",
       "      <td>0.0</td>\n",
       "      <td>0.0</td>\n",
       "      <td>3</td>\n",
       "      <td>0.5</td>\n",
       "    </tr>\n",
       "    <tr>\n",
       "      <th>4</th>\n",
       "      <td>2014</td>\n",
       "      <td>4</td>\n",
       "      <td>0</td>\n",
       "      <td>33.504054</td>\n",
       "      <td>-112.082813</td>\n",
       "      <td>1</td>\n",
       "      <td>0</td>\n",
       "      <td>0</td>\n",
       "      <td>0</td>\n",
       "      <td>0</td>\n",
       "      <td>...</td>\n",
       "      <td>0.0</td>\n",
       "      <td>0.0</td>\n",
       "      <td>0.0</td>\n",
       "      <td>0.0</td>\n",
       "      <td>0.0</td>\n",
       "      <td>0.0</td>\n",
       "      <td>0.0</td>\n",
       "      <td>0.0</td>\n",
       "      <td>3</td>\n",
       "      <td>0.5</td>\n",
       "    </tr>\n",
       "  </tbody>\n",
       "</table>\n",
       "<p>5 rows × 2483 columns</p>\n",
       "</div>"
      ],
      "text/plain": [
       "   date_year  stars  biz_is_open  biz_latitude  biz_longitude  biz_state_AZ  \\\n",
       "0       2011      5            1     33.662944    -112.018233             1   \n",
       "1       2010      5            1     33.662944    -112.018233             1   \n",
       "2       2011      5            1     33.662944    -112.018233             1   \n",
       "3       2014      5            0     33.504054    -112.082813             1   \n",
       "4       2014      4            0     33.504054    -112.082813             1   \n",
       "\n",
       "   biz_state_BW  biz_state_EDH  biz_state_ELN  biz_state_ESX       ...        \\\n",
       "0             0              0              0              0       ...         \n",
       "1             0              0              0              0       ...         \n",
       "2             0              0              0              0       ...         \n",
       "3             0              0              0              0       ...         \n",
       "4             0              0              0              0       ...         \n",
       "\n",
       "   biz_catBiz_Wok  biz_catBiz_Women's Clothing  \\\n",
       "0             0.0                          0.0   \n",
       "1             0.0                          0.0   \n",
       "2             0.0                          0.0   \n",
       "3             0.0                          0.0   \n",
       "4             0.0                          0.0   \n",
       "\n",
       "   biz_catBiz_Workers Compensation Law  biz_catBiz_Wraps  \\\n",
       "0                                  0.0               0.0   \n",
       "1                                  0.0               0.0   \n",
       "2                                  0.0               0.0   \n",
       "3                                  0.0               0.0   \n",
       "4                                  0.0               0.0   \n",
       "\n",
       "   biz_catBiz_Yelp Events  biz_catBiz_Yoga  biz_catBiz_Ziplining  \\\n",
       "0                     0.0              0.0                   0.0   \n",
       "1                     0.0              0.0                   0.0   \n",
       "2                     0.0              0.0                   0.0   \n",
       "3                     0.0              0.0                   0.0   \n",
       "4                     0.0              0.0                   0.0   \n",
       "\n",
       "   biz_catBiz_Zoos  usr_year_experience  usr_stars_bias  \n",
       "0              0.0                    0            -1.0  \n",
       "1              0.0                    0            -0.5  \n",
       "2              0.0                    0            -1.0  \n",
       "3              0.0                    3             0.5  \n",
       "4              0.0                    3             0.5  \n",
       "\n",
       "[5 rows x 2483 columns]"
      ]
     },
     "execution_count": 41,
     "metadata": {},
     "output_type": "execute_result"
    }
   ],
   "source": [
    "\n",
    "names = ['business_id','user_id','review_id','usr_name','biz_name','text']\n",
    "rev_user_biz_clean = rev_user_biz[ [i for i in rev_user_biz.columns  if i not in names ] ]\n",
    "\n",
    "rev_user_biz_clean.head(5)\n"
   ]
  },
  {
   "cell_type": "code",
   "execution_count": 42,
   "metadata": {
    "collapsed": false
   },
   "outputs": [
    {
     "data": {
      "text/plain": [
       "<10000x2483 sparse matrix of type '<type 'numpy.float64'>'\n",
       "\twith 132913 stored elements in COOrdinate format>"
      ]
     },
     "execution_count": 42,
     "metadata": {},
     "output_type": "execute_result"
    }
   ],
   "source": [
    "\n",
    "sparse_rev_user_biz = coo_matrix( rev_user_biz_clean )\n",
    "sparse_rev_user_biz\n"
   ]
  },
  {
   "cell_type": "code",
   "execution_count": 43,
   "metadata": {
    "collapsed": false
   },
   "outputs": [
    {
     "data": {
      "text/plain": [
       "<10000x483902 sparse matrix of type '<type 'numpy.float64'>'\n",
       "\twith 1343359 stored elements in COOrdinate format>"
      ]
     },
     "execution_count": 43,
     "metadata": {},
     "output_type": "execute_result"
    }
   ],
   "source": [
    "\n",
    "sparse_rev_user_biz = hstack( [stack_txt, sparse_rev_user_biz] )\n",
    "sparse_rev_user_biz\n"
   ]
  },
  {
   "cell_type": "code",
   "execution_count": 44,
   "metadata": {
    "collapsed": false
   },
   "outputs": [],
   "source": [
    "\n",
    "import pickle \n",
    "pickle.dump( sparse_rev_user_biz, open('../../DataProject/reviews_yelp_sample_preproc.p', 'wb') )\n"
   ]
  },
  {
   "cell_type": "code",
   "execution_count": 52,
   "metadata": {
    "collapsed": false
   },
   "outputs": [
    {
     "data": {
      "text/html": [
       "<div>\n",
       "<table border=\"1\" class=\"dataframe\">\n",
       "  <thead>\n",
       "    <tr style=\"text-align: right;\">\n",
       "      <th></th>\n",
       "      <th>date_year</th>\n",
       "      <th>stars</th>\n",
       "      <th>biz_is_open</th>\n",
       "      <th>biz_latitude</th>\n",
       "      <th>biz_longitude</th>\n",
       "      <th>biz_state_AZ</th>\n",
       "      <th>biz_state_BW</th>\n",
       "      <th>biz_state_EDH</th>\n",
       "      <th>biz_state_ELN</th>\n",
       "      <th>biz_state_ESX</th>\n",
       "      <th>...</th>\n",
       "      <th>biz_catBiz_Workers Compensation Law</th>\n",
       "      <th>biz_catBiz_Wraps</th>\n",
       "      <th>biz_catBiz_Yelp Events</th>\n",
       "      <th>biz_catBiz_Yoga</th>\n",
       "      <th>biz_catBiz_Ziplining</th>\n",
       "      <th>biz_catBiz_Zoos</th>\n",
       "      <th>usr_year_experience</th>\n",
       "      <th>usr_stars_bias</th>\n",
       "      <th>biz_name</th>\n",
       "      <th>text</th>\n",
       "    </tr>\n",
       "  </thead>\n",
       "  <tbody>\n",
       "    <tr>\n",
       "      <th>0</th>\n",
       "      <td>2011</td>\n",
       "      <td>5</td>\n",
       "      <td>1</td>\n",
       "      <td>33.662944</td>\n",
       "      <td>-112.018233</td>\n",
       "      <td>1</td>\n",
       "      <td>0</td>\n",
       "      <td>0</td>\n",
       "      <td>0</td>\n",
       "      <td>0</td>\n",
       "      <td>...</td>\n",
       "      <td>0.0</td>\n",
       "      <td>0.0</td>\n",
       "      <td>0.0</td>\n",
       "      <td>0.0</td>\n",
       "      <td>0.0</td>\n",
       "      <td>0.0</td>\n",
       "      <td>0</td>\n",
       "      <td>-1.0</td>\n",
       "      <td>[enjoy, service, someone, competent, personabl...</td>\n",
       "      <td>[enjoy, service, someone, competent, personabl...</td>\n",
       "    </tr>\n",
       "    <tr>\n",
       "      <th>1</th>\n",
       "      <td>2010</td>\n",
       "      <td>5</td>\n",
       "      <td>1</td>\n",
       "      <td>33.662944</td>\n",
       "      <td>-112.018233</td>\n",
       "      <td>1</td>\n",
       "      <td>0</td>\n",
       "      <td>0</td>\n",
       "      <td>0</td>\n",
       "      <td>0</td>\n",
       "      <td>...</td>\n",
       "      <td>0.0</td>\n",
       "      <td>0.0</td>\n",
       "      <td>0.0</td>\n",
       "      <td>0.0</td>\n",
       "      <td>0.0</td>\n",
       "      <td>0.0</td>\n",
       "      <td>0</td>\n",
       "      <td>-0.5</td>\n",
       "      <td>[phone, verizon, wireless, trying, figure, pho...</td>\n",
       "      <td>[phone, verizon, wireless, trying, figure, pho...</td>\n",
       "    </tr>\n",
       "    <tr>\n",
       "      <th>2</th>\n",
       "      <td>2011</td>\n",
       "      <td>5</td>\n",
       "      <td>1</td>\n",
       "      <td>33.662944</td>\n",
       "      <td>-112.018233</td>\n",
       "      <td>1</td>\n",
       "      <td>0</td>\n",
       "      <td>0</td>\n",
       "      <td>0</td>\n",
       "      <td>0</td>\n",
       "      <td>...</td>\n",
       "      <td>0.0</td>\n",
       "      <td>0.0</td>\n",
       "      <td>0.0</td>\n",
       "      <td>0.0</td>\n",
       "      <td>0.0</td>\n",
       "      <td>0.0</td>\n",
       "      <td>0</td>\n",
       "      <td>-1.0</td>\n",
       "      <td>[great, service, corey, service, oriented, wor...</td>\n",
       "      <td>[great, service, corey, service, oriented, wor...</td>\n",
       "    </tr>\n",
       "    <tr>\n",
       "      <th>3</th>\n",
       "      <td>2014</td>\n",
       "      <td>5</td>\n",
       "      <td>0</td>\n",
       "      <td>33.504054</td>\n",
       "      <td>-112.082813</td>\n",
       "      <td>1</td>\n",
       "      <td>0</td>\n",
       "      <td>0</td>\n",
       "      <td>0</td>\n",
       "      <td>0</td>\n",
       "      <td>...</td>\n",
       "      <td>0.0</td>\n",
       "      <td>0.0</td>\n",
       "      <td>0.0</td>\n",
       "      <td>0.0</td>\n",
       "      <td>0.0</td>\n",
       "      <td>0.0</td>\n",
       "      <td>3</td>\n",
       "      <td>0.5</td>\n",
       "      <td>[highly, recommended, went, yesterday, looking...</td>\n",
       "      <td>[highly, recommended, went, yesterday, looking...</td>\n",
       "    </tr>\n",
       "    <tr>\n",
       "      <th>4</th>\n",
       "      <td>2014</td>\n",
       "      <td>4</td>\n",
       "      <td>0</td>\n",
       "      <td>33.504054</td>\n",
       "      <td>-112.082813</td>\n",
       "      <td>1</td>\n",
       "      <td>0</td>\n",
       "      <td>0</td>\n",
       "      <td>0</td>\n",
       "      <td>0</td>\n",
       "      <td>...</td>\n",
       "      <td>0.0</td>\n",
       "      <td>0.0</td>\n",
       "      <td>0.0</td>\n",
       "      <td>0.0</td>\n",
       "      <td>0.0</td>\n",
       "      <td>0.0</td>\n",
       "      <td>3</td>\n",
       "      <td>0.5</td>\n",
       "      <td>[walked, looking, specific, piece, furniture, ...</td>\n",
       "      <td>[walked, looking, specific, piece, furniture, ...</td>\n",
       "    </tr>\n",
       "  </tbody>\n",
       "</table>\n",
       "<p>5 rows × 2485 columns</p>\n",
       "</div>"
      ],
      "text/plain": [
       "   date_year  stars  biz_is_open  biz_latitude  biz_longitude  biz_state_AZ  \\\n",
       "0       2011      5            1     33.662944    -112.018233             1   \n",
       "1       2010      5            1     33.662944    -112.018233             1   \n",
       "2       2011      5            1     33.662944    -112.018233             1   \n",
       "3       2014      5            0     33.504054    -112.082813             1   \n",
       "4       2014      4            0     33.504054    -112.082813             1   \n",
       "\n",
       "   biz_state_BW  biz_state_EDH  biz_state_ELN  biz_state_ESX  \\\n",
       "0             0              0              0              0   \n",
       "1             0              0              0              0   \n",
       "2             0              0              0              0   \n",
       "3             0              0              0              0   \n",
       "4             0              0              0              0   \n",
       "\n",
       "                         ...                          \\\n",
       "0                        ...                           \n",
       "1                        ...                           \n",
       "2                        ...                           \n",
       "3                        ...                           \n",
       "4                        ...                           \n",
       "\n",
       "   biz_catBiz_Workers Compensation Law  biz_catBiz_Wraps  \\\n",
       "0                                  0.0               0.0   \n",
       "1                                  0.0               0.0   \n",
       "2                                  0.0               0.0   \n",
       "3                                  0.0               0.0   \n",
       "4                                  0.0               0.0   \n",
       "\n",
       "   biz_catBiz_Yelp Events  biz_catBiz_Yoga  biz_catBiz_Ziplining  \\\n",
       "0                     0.0              0.0                   0.0   \n",
       "1                     0.0              0.0                   0.0   \n",
       "2                     0.0              0.0                   0.0   \n",
       "3                     0.0              0.0                   0.0   \n",
       "4                     0.0              0.0                   0.0   \n",
       "\n",
       "   biz_catBiz_Zoos  usr_year_experience  usr_stars_bias  \\\n",
       "0              0.0                    0            -1.0   \n",
       "1              0.0                    0            -0.5   \n",
       "2              0.0                    0            -1.0   \n",
       "3              0.0                    3             0.5   \n",
       "4              0.0                    3             0.5   \n",
       "\n",
       "                                            biz_name  \\\n",
       "0  [enjoy, service, someone, competent, personabl...   \n",
       "1  [phone, verizon, wireless, trying, figure, pho...   \n",
       "2  [great, service, corey, service, oriented, wor...   \n",
       "3  [highly, recommended, went, yesterday, looking...   \n",
       "4  [walked, looking, specific, piece, furniture, ...   \n",
       "\n",
       "                                                text  \n",
       "0  [enjoy, service, someone, competent, personabl...  \n",
       "1  [phone, verizon, wireless, trying, figure, pho...  \n",
       "2  [great, service, corey, service, oriented, wor...  \n",
       "3  [highly, recommended, went, yesterday, looking...  \n",
       "4  [walked, looking, specific, piece, furniture, ...  \n",
       "\n",
       "[5 rows x 2485 columns]"
      ]
     },
     "execution_count": 52,
     "metadata": {},
     "output_type": "execute_result"
    }
   ],
   "source": [
    "\n",
    "rev_user_biz_clean.loc[:,'biz_name'] = cleaned_name\n",
    "rev_user_biz_clean.loc[:,'text'] = cleaned_text\n",
    "\n",
    "rev_user_biz_clean.head(5)\n"
   ]
  },
  {
   "cell_type": "code",
   "execution_count": 46,
   "metadata": {
    "collapsed": false
   },
   "outputs": [],
   "source": [
    "\n",
    "pickle.dump( rev_user_biz_clean, open('../../DataProject/reviews_yelp_sample.p', 'wb') )\n"
   ]
  },
  {
   "cell_type": "markdown",
   "metadata": {
    "collapsed": true
   },
   "source": [
    "# 4. Starting LDA "
   ]
  },
  {
   "cell_type": "markdown",
   "metadata": {},
   "source": [
    "Sources : \n",
    "    * LDA  and DMR : https://github.com/mpkato/dmr/tree/master/dmr\n",
    "    * sLDA: https://github.com/arongdari/python-topic-model\n",
    "    https://github.com/akullpp/SLDA\n",
    "   "
   ]
  },
  {
   "cell_type": "code",
   "execution_count": 47,
   "metadata": {
    "collapsed": false
   },
   "outputs": [],
   "source": [
    "\n",
    "import vocabulary as v\n",
    "import lda\n",
    "\n",
    "voca = v.Vocabulary()\n",
    "docs = voca.read_corpus( rev_user_biz_clean['text'] )\n"
   ]
  },
  {
   "cell_type": "code",
   "execution_count": 48,
   "metadata": {
    "collapsed": false
   },
   "outputs": [
    {
     "name": "stdout",
     "output_type": "stream",
     "text": [
      "vocab 37929\n",
      "reviews 10000\n"
     ]
    }
   ],
   "source": [
    "\n",
    "print \"vocab\",voca.size()\n",
    "print \"reviews\",( len(rev_user_biz_clean['text']) )\n"
   ]
  },
  {
   "cell_type": "code",
   "execution_count": 49,
   "metadata": {
    "collapsed": false
   },
   "outputs": [],
   "source": [
    "\n",
    "reload(lda)\n",
    "\n",
    "lda = lda.LDA( 10, 0.1, 0.01, docs, voca.size() )\n"
   ]
  },
  {
   "cell_type": "code",
   "execution_count": 50,
   "metadata": {
    "collapsed": false
   },
   "outputs": [
    {
     "name": "stdout",
     "output_type": "stream",
     "text": [
      "0.1\n",
      "0.01\n",
      "3945.31748205\n"
     ]
    }
   ],
   "source": [
    "print lda.alpha\n",
    "print lda.beta\n",
    "print lda.perplexity()\n"
   ]
  },
  {
   "cell_type": "code",
   "execution_count": 51,
   "metadata": {
    "collapsed": false
   },
   "outputs": [
    {
     "data": {
      "text/plain": [
       "array([[ 0.23666667,  0.07      ,  0.07      , ...,  0.10333333,\n",
       "         0.17      ,  0.07      ],\n",
       "       [ 0.15      ,  0.15      ,  0.03888889, ...,  0.11296296,\n",
       "         0.15      ,  0.09444444],\n",
       "       [ 0.11666667,  0.17222222,  0.00555556, ...,  0.06111111,\n",
       "         0.17222222,  0.06111111],\n",
       "       ..., \n",
       "       [ 0.10111732,  0.07318436,  0.13463687, ...,  0.10670391,\n",
       "         0.08435754,  0.10111732],\n",
       "       [ 0.1       ,  0.05121951,  0.07560976, ...,  0.05121951,\n",
       "         0.17317073,  0.12439024],\n",
       "       [ 0.12638889,  0.08472222,  0.12638889, ...,  0.14027778,\n",
       "         0.1125    ,  0.02916667]])"
      ]
     },
     "execution_count": 51,
     "metadata": {},
     "output_type": "execute_result"
    }
   ],
   "source": [
    "\n",
    "lda.topicdist()\n"
   ]
  }
 ],
 "metadata": {
  "kernelspec": {
   "display_name": "Python 2",
   "language": "python",
   "name": "python2"
  },
  "language_info": {
   "codemirror_mode": {
    "name": "ipython",
    "version": 2
   },
   "file_extension": ".py",
   "mimetype": "text/x-python",
   "name": "python",
   "nbconvert_exporter": "python",
   "pygments_lexer": "ipython2",
   "version": "2.7.13"
  }
 },
 "nbformat": 4,
 "nbformat_minor": 1
}
